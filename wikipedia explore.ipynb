{
 "cells": [
  {
   "cell_type": "code",
   "execution_count": 1,
   "id": "80c12260",
   "metadata": {
    "scrolled": true
   },
   "outputs": [
    {
     "name": "stdout",
     "output_type": "stream",
     "text": [
      "Requirement already satisfied: requests in /Users/mengtian_guo/opt/anaconda3/envs/spacy_2/lib/python3.7/site-packages (2.28.1)\r\n",
      "Requirement already satisfied: idna<4,>=2.5 in /Users/mengtian_guo/opt/anaconda3/envs/spacy_2/lib/python3.7/site-packages (from requests) (3.3)\r\n",
      "Requirement already satisfied: charset-normalizer<3,>=2 in /Users/mengtian_guo/opt/anaconda3/envs/spacy_2/lib/python3.7/site-packages (from requests) (2.1.1)\r\n",
      "Requirement already satisfied: certifi>=2017.4.17 in /Users/mengtian_guo/opt/anaconda3/envs/spacy_2/lib/python3.7/site-packages (from requests) (2022.6.15)\r\n",
      "Requirement already satisfied: urllib3<1.27,>=1.21.1 in /Users/mengtian_guo/opt/anaconda3/envs/spacy_2/lib/python3.7/site-packages (from requests) (1.26.12)\r\n"
     ]
    }
   ],
   "source": [
    "!pip install requests"
   ]
  },
  {
   "cell_type": "code",
   "execution_count": 1,
   "id": "5fe843e4",
   "metadata": {},
   "outputs": [],
   "source": [
    "import numpy as np\n",
    "import pandas as pd\n",
    "from pdfminer.high_level import extract_text\n",
    "import re\n",
    "import spacy\n",
    "from spacy import displacy\n",
    "from bs4 import BeautifulSoup\n",
    "import json"
   ]
  },
  {
   "cell_type": "code",
   "execution_count": 2,
   "id": "fa70bb9c",
   "metadata": {},
   "outputs": [
    {
     "name": "stdout",
     "output_type": "stream",
     "text": [
      "Collecting wikipedia-api\n",
      "  Using cached Wikipedia-API-0.5.4.tar.gz (18 kB)\n",
      "  Preparing metadata (setup.py) ... \u001b[?25ldone\n",
      "\u001b[?25hRequirement already satisfied: requests in /Users/mengtian_guo/opt/anaconda3/envs/spacy_2/lib/python3.7/site-packages (from wikipedia-api) (2.28.1)\n",
      "Requirement already satisfied: idna<4,>=2.5 in /Users/mengtian_guo/opt/anaconda3/envs/spacy_2/lib/python3.7/site-packages (from requests->wikipedia-api) (3.3)\n",
      "Requirement already satisfied: urllib3<1.27,>=1.21.1 in /Users/mengtian_guo/opt/anaconda3/envs/spacy_2/lib/python3.7/site-packages (from requests->wikipedia-api) (1.26.12)\n",
      "Requirement already satisfied: charset-normalizer<3,>=2 in /Users/mengtian_guo/opt/anaconda3/envs/spacy_2/lib/python3.7/site-packages (from requests->wikipedia-api) (2.1.1)\n",
      "Requirement already satisfied: certifi>=2017.4.17 in /Users/mengtian_guo/opt/anaconda3/envs/spacy_2/lib/python3.7/site-packages (from requests->wikipedia-api) (2022.6.15)\n",
      "Building wheels for collected packages: wikipedia-api\n",
      "  Building wheel for wikipedia-api (setup.py) ... \u001b[?25ldone\n",
      "\u001b[?25h  Created wheel for wikipedia-api: filename=Wikipedia_API-0.5.4-py3-none-any.whl size=13476 sha256=a1c6fe054d807ae77c19e22561f14942e666239c5775c87e97332203eaa49adc\n",
      "  Stored in directory: /Users/mengtian_guo/Library/Caches/pip/wheels/d3/24/56/58ba93cf78be162451144e7a9889603f437976ef1ae7013d04\n",
      "Successfully built wikipedia-api\n",
      "Installing collected packages: wikipedia-api\n",
      "Successfully installed wikipedia-api-0.5.4\n"
     ]
    }
   ],
   "source": [
    "!pip3 install wikipedia-api"
   ]
  },
  {
   "cell_type": "code",
   "execution_count": 2,
   "id": "3e9cb76e",
   "metadata": {},
   "outputs": [],
   "source": [
    "import requests\n",
    "import wikipediaapi\n",
    "\n",
    "S = requests.Session()\n",
    "\n",
    "URL = \"https://en.wikipedia.org/w/api.php\"\n"
   ]
  },
  {
   "cell_type": "code",
   "execution_count": 7,
   "id": "c3b19d85",
   "metadata": {},
   "outputs": [
    {
     "name": "stdout",
     "output_type": "stream",
     "text": [
      "{'batchcomplete': '', 'continue': {'sroffset': 10, 'continue': '-||'}, 'query': {'searchinfo': {'totalhits': 1034}, 'search': [{'ns': 0, 'title': 'Watergate scandal', 'pageid': 52382, 'size': 132055, 'wordcount': 14677, 'snippet': 'involvement in the June 17, 1972, <span class=\"searchmatch\">break</span>-in of the Democratic National Committee headquarters at the Washington, D.C., <span class=\"searchmatch\">Watergate</span> Office Building. After the five', 'timestamp': '2022-11-02T17:14:54Z'}, {'ns': 0, 'title': 'Deep Throat (Watergate)', 'pageid': 461561, 'size': 45583, 'wordcount': 6008, 'snippet': 'days after the <span class=\"searchmatch\">Watergate</span> <span class=\"searchmatch\">break</span>-in, Woodward called Felt at his office, which marked the first time Woodward spoke with Felt about <span class=\"searchmatch\">Watergate</span>. Commenting on', 'timestamp': '2022-10-18T18:38:38Z'}, {'ns': 0, 'title': 'Watergate complex', 'pageid': 625197, 'size': 105253, 'wordcount': 11068, 'snippet': 'The <span class=\"searchmatch\">Watergate</span> complex is a group of six buildings in the Foggy Bottom neighborhood of Washington, D.C., in the United States. Covering a total of 10 acres', 'timestamp': '2022-11-06T20:35:17Z'}, {'ns': 0, 'title': 'United States Senate Watergate Committee', 'pageid': 710254, 'size': 12121, 'wordcount': 974, 'snippet': 'investigate the <span class=\"searchmatch\">Watergate</span> scandal, with the power to investigate the <span class=\"searchmatch\">break</span>-in at the Democratic National Committee (DNC) headquarters at the <span class=\"searchmatch\">Watergate</span> office complex', 'timestamp': '2022-06-11T14:54:25Z'}, {'ns': 0, 'title': '1972 United States presidential election', 'pageid': 40568, 'size': 92016, 'wordcount': 6141, 'snippet': 'headquarters at the <span class=\"searchmatch\">Watergate</span> hotel in Washington, D. C.; the resulting investigation led to the revelation of attempted cover-ups of the <span class=\"searchmatch\">break</span>-in within the', 'timestamp': '2022-11-07T13:02:58Z'}, {'ns': 0, 'title': 'Frank Wills (security guard)', 'pageid': 587880, 'size': 13109, 'wordcount': 1395, 'snippet': 'for his role in foiling the June 17, 1972, <span class=\"searchmatch\">break</span>-in at the Democratic National Committee inside the <span class=\"searchmatch\">Watergate</span> complex in Washington, D.C. Then 24, Wills', 'timestamp': '2022-09-10T16:36:15Z'}, {'ns': 0, 'title': 'Timeline of the Watergate scandal', 'pageid': 2090607, 'size': 18457, 'wordcount': 2301, 'snippet': 'The <span class=\"searchmatch\">Watergate</span> scandal refers to the burglary and illegal wiretapping of the headquarters of the Democratic National Committee, in the <span class=\"searchmatch\">Watergate</span> complex', 'timestamp': '2022-07-31T20:12:16Z'}, {'ns': 0, 'title': 'White House Plumbers', 'pageid': 608864, 'size': 7348, 'wordcount': 855, 'snippet': 'the Committee to Re-elect the President, including the <span class=\"searchmatch\">Watergate</span> <span class=\"searchmatch\">break</span>-in and the ensuing <span class=\"searchmatch\">Watergate</span> scandal. The group has been described as Nixon\\'s &quot;fixers&quot;', 'timestamp': '2022-10-12T07:36:53Z'}, {'ns': 0, 'title': \"All the President's Men (film)\", 'pageid': 3876620, 'size': 39769, 'wordcount': 3362, 'snippet': 'a 1976 American biographical political drama-thriller film about the <span class=\"searchmatch\">Watergate</span> scandal that brought down the presidency of Richard Nixon. Directed by', 'timestamp': '2022-10-07T19:56:13Z'}, {'ns': 0, 'title': 'Martha Mitchell', 'pageid': 1976384, 'size': 32661, 'wordcount': 3396, 'snippet': 'President Richard Nixon. Her public comments and interviews during the <span class=\"searchmatch\">Watergate</span> scandal were frank and revealing. Martha Elizabeth Beall Jennings Mitchell', 'timestamp': '2022-09-30T17:34:06Z'}]}}\n"
     ]
    }
   ],
   "source": [
    "SEARCHPAGE = \"watergate break\"\n",
    "\n",
    "PARAMS = {\n",
    "    \"action\": \"query\",\n",
    "    \"format\": \"json\",\n",
    "    \"list\": \"search\",\n",
    "    \"srsearch\": SEARCHPAGE\n",
    "}\n",
    "\n",
    "R = S.get(url=URL, params=PARAMS)\n",
    "DATA = R.json()\n",
    "print(DATA)\n",
    "# if DATA['query']['search'][0]['title'] == SEARCHPAGE:\n",
    "#     print(\"Your search page '\" + SEARCHPAGE + \"' exists on English Wikipedia\")"
   ]
  },
  {
   "cell_type": "code",
   "execution_count": 5,
   "id": "49742a2b",
   "metadata": {},
   "outputs": [],
   "source": [
    "wiki_wiki = wikipediaapi.Wikipedia('en', extract_format=wikipediaapi.ExtractFormat.HTML)\n",
    "\n",
    "page_py = wiki_wiki.page('L. Patrick Gray')"
   ]
  },
  {
   "cell_type": "code",
   "execution_count": 6,
   "id": "0daf787b",
   "metadata": {},
   "outputs": [
    {
     "name": "stdout",
     "output_type": "stream",
     "text": [
      "Page - Exists: True\n"
     ]
    }
   ],
   "source": [
    "print(\"Page - Exists: %s\" % page_py.exists())"
   ]
  },
  {
   "cell_type": "code",
   "execution_count": 7,
   "id": "5a49507b",
   "metadata": {},
   "outputs": [
    {
     "data": {
      "text/plain": [
       "'<p class=\"mw-empty-elt\">\\n</p>\\n<p><b>Louis Patrick Gray III</b> (July 18, 1916 – July 6, 2005) was Acting Director of the Federal Bureau of Investigation (FBI) from May 3, 1972 to April 27, 1973. During this time, the FBI was in charge of the initial investigation into the burglaries that sparked the Watergate scandal, which eventually led to the resignation of President Nixon. Gray was nominated as permanent Director by Nixon on February 15, 1973, but failed to win Senate confirmation. He resigned as Acting FBI director on April 27, 1973, after he admitted to destroying documents that had come from convicted Watergate conspirator E. Howard Hunt\\'s safe—documents received on June 28, 1972, 11 days after the Watergate burglary, and given to Gray by White House counsel John Dean.</p><p>Gray remained publicly silent about the Watergate scandal for 32 years, speaking to the press only once, near the end of his life; this was shortly after Gray\\'s direct subordinate at the FBI, FBI Deputy Director Mark Felt, revealed himself to have been the secret source to <i>The Washington Post</i> known as \"Deep Throat\".\\n</p>'"
      ]
     },
     "execution_count": 7,
     "metadata": {},
     "output_type": "execute_result"
    }
   ],
   "source": [
    "page_py.summary"
   ]
  },
  {
   "cell_type": "code",
   "execution_count": 9,
   "id": "fd4aac92",
   "metadata": {},
   "outputs": [],
   "source": [
    "nlp = spacy.load(\"en_core_web_sm\")"
   ]
  },
  {
   "cell_type": "code",
   "execution_count": 12,
   "id": "cde777e2",
   "metadata": {},
   "outputs": [],
   "source": [
    "def get_entities(sent):\n",
    "    doc = nlp(sent)\n",
    "    entities = []\n",
    "    for ent in doc.ents:\n",
    "        entities.append(ent.text)\n",
    "    return list(set(entities))"
   ]
  },
  {
   "cell_type": "code",
   "execution_count": 13,
   "id": "56c6919c",
   "metadata": {},
   "outputs": [
    {
     "data": {
      "text/plain": [
       "['May 3, 1972 to April 27, 1973',\n",
       " 'FBI',\n",
       " 'Watergate',\n",
       " 'John Dean.</p><p',\n",
       " 'Senate',\n",
       " 'Gray by',\n",
       " 'Gray',\n",
       " 'Deep Throat',\n",
       " 'June 28, 1972',\n",
       " 'Washington',\n",
       " 'April 27, 1973',\n",
       " 'Mark Felt',\n",
       " 'Louis Patrick Gray',\n",
       " 'Nixon',\n",
       " 'July 18, 1916 –',\n",
       " 'White House',\n",
       " '11 days',\n",
       " 'February 15, 1973',\n",
       " '32 years',\n",
       " \"E. Howard Hunt's\",\n",
       " 'the Federal Bureau of Investigation']"
      ]
     },
     "execution_count": 13,
     "metadata": {},
     "output_type": "execute_result"
    }
   ],
   "source": [
    "get_entities(page_py.summary)"
   ]
  },
  {
   "cell_type": "code",
   "execution_count": 39,
   "id": "aa39ac00",
   "metadata": {},
   "outputs": [
    {
     "data": {
      "text/plain": [
       "{'1972 United States presidential election': 1972 United States presidential election (id: ??, ns: 0),\n",
       " 'A. Bruce Bielaski': A. Bruce Bielaski (id: ??, ns: 0),\n",
       " 'Alexander Butterfield': Alexander Butterfield (id: ??, ns: 0),\n",
       " \"All the President's Men\": All the President's Men (id: ??, ns: 0),\n",
       " \"All the President's Men (film)\": All the President's Men (film) (id: ??, ns: 0),\n",
       " 'American Campaign Medal': American Campaign Medal (id: ??, ns: 0),\n",
       " 'American Defense Service Medal': American Defense Service Medal (id: ??, ns: 0),\n",
       " 'Andrew McCabe': Andrew McCabe (id: ??, ns: 0),\n",
       " 'Annapolis, Maryland': Annapolis, Maryland (id: ??, ns: 0),\n",
       " 'Archibald Cox': Archibald Cox (id: ??, ns: 0),\n",
       " 'Arleigh Burke': Arleigh Burke (id: ??, ns: 0),\n",
       " 'Asiatic–Pacific Campaign Medal': Asiatic–Pacific Campaign Medal (id: ??, ns: 0),\n",
       " 'Athan G. Theoharis': Athan G. Theoharis (id: ??, ns: 0),\n",
       " 'Atlantic Beach, Florida': Atlantic Beach, Florida (id: ??, ns: 0),\n",
       " 'Bachelor of Science': Bachelor of Science (id: ??, ns: 0),\n",
       " 'Barry Sussman': Barry Sussman (id: ??, ns: 0),\n",
       " 'Ben Bradlee': Ben Bradlee (id: ??, ns: 0),\n",
       " 'Benjamin C. Bradlee': Benjamin C. Bradlee (id: ??, ns: 0),\n",
       " 'Bernard Barker': Bernard Barker (id: ??, ns: 0),\n",
       " 'Blind Ambition (miniseries)': Blind Ambition (miniseries) (id: ??, ns: 0),\n",
       " 'Bob Woodward': Bob Woodward (id: ??, ns: 0),\n",
       " 'Bureau of Investigation': Bureau of Investigation (id: ??, ns: 0),\n",
       " 'Captain (United States O-6)': Captain (United States O-6) (id: ??, ns: 0),\n",
       " 'Carl Bernstein': Carl Bernstein (id: ??, ns: 0),\n",
       " 'Central Intelligence Agency': Central Intelligence Agency (id: ??, ns: 0),\n",
       " 'Chairman of the Joint Chiefs of Staff': Chairman of the Joint Chiefs of Staff (id: ??, ns: 0),\n",
       " 'Charles Colson': Charles Colson (id: ??, ns: 0),\n",
       " 'Chief of Naval Operations': Chief of Naval Operations (id: ??, ns: 0),\n",
       " 'Christopher A. Wray': Christopher A. Wray (id: ??, ns: 0),\n",
       " 'Clarence M. Kelley': Clarence M. Kelley (id: ??, ns: 0),\n",
       " 'Clyde Tolson': Clyde Tolson (id: ??, ns: 0),\n",
       " 'Committee for the Re-Election of the President': Committee for the Re-Election of the President (id: ??, ns: 0),\n",
       " 'Deep Throat (Watergate)': Deep Throat (Watergate) (id: ??, ns: 0),\n",
       " 'Democratic National Committee': Democratic National Committee (id: ??, ns: 0),\n",
       " 'Dick (film)': Dick (film) (id: ??, ns: 0),\n",
       " 'Director of the Federal Bureau of Investigation': Director of the Federal Bureau of Investigation (id: ??, ns: 0),\n",
       " 'Donald Segretti': Donald Segretti (id: ??, ns: 0),\n",
       " 'E. Howard Hunt': E. Howard Hunt (id: ??, ns: 0),\n",
       " 'Egil Krogh': Egil Krogh (id: ??, ns: 0),\n",
       " 'Eugenio Martínez': Eugenio Martínez (id: ??, ns: 0),\n",
       " 'Federal Bureau of Investigation': Federal Bureau of Investigation (id: ??, ns: 0),\n",
       " 'Florida': Florida (id: ??, ns: 0),\n",
       " 'Floyd I. Clarke': Floyd I. Clarke (id: ??, ns: 0),\n",
       " 'Follow the money': Follow the money (id: ??, ns: 0),\n",
       " 'Frank Sturgis': Frank Sturgis (id: ??, ns: 0),\n",
       " 'Frank Wills (security guard)': Frank Wills (security guard) (id: ??, ns: 0),\n",
       " 'Fred LaRue': Fred LaRue (id: ??, ns: 0),\n",
       " 'G. Gordon Liddy': G. Gordon Liddy (id: ??, ns: 0),\n",
       " 'Gaslit (TV series)': Gaslit (TV series) (id: ??, ns: 0),\n",
       " 'George Washington University': George Washington University (id: ??, ns: 0),\n",
       " 'George Washington University Law School': George Washington University Law School (id: ??, ns: 0),\n",
       " 'Gerald Ford': Gerald Ford (id: ??, ns: 0),\n",
       " 'Gordon C. Strachan': Gordon C. Strachan (id: ??, ns: 0),\n",
       " 'H. R. Haldeman': H. R. Haldeman (id: ??, ns: 0),\n",
       " 'Harlington Wood Jr.': Harlington Wood Jr. (id: ??, ns: 0),\n",
       " 'Harry M. Rosenfeld': Harry M. Rosenfeld (id: ??, ns: 0),\n",
       " 'Helen Gandy': Helen Gandy (id: ??, ns: 0),\n",
       " 'Houston, Texas': Houston, Texas (id: ??, ns: 0),\n",
       " 'Howard Baker': Howard Baker (id: ??, ns: 0),\n",
       " 'Howard Simons': Howard Simons (id: ??, ns: 0),\n",
       " 'Hugh W. Sloan Jr.': Hugh W. Sloan Jr. (id: ??, ns: 0),\n",
       " 'ISBN (identifier)': ISBN (identifier) (id: ??, ns: 0),\n",
       " 'ISNI (identifier)': ISNI (identifier) (id: ??, ns: 0),\n",
       " 'Impeachment process against Richard Nixon': Impeachment process against Richard Nixon (id: ??, ns: 0),\n",
       " 'Inauguration of Gerald Ford': Inauguration of Gerald Ford (id: ??, ns: 0),\n",
       " 'J. Edgar Hoover': J. Edgar Hoover (id: ??, ns: 0),\n",
       " 'James B. Adams': James B. Adams (id: ??, ns: 0),\n",
       " 'James Comey': James Comey (id: ??, ns: 0),\n",
       " 'James F. Neal': James F. Neal (id: ??, ns: 0),\n",
       " 'James R. Schlesinger': James R. Schlesinger (id: ??, ns: 0),\n",
       " 'James W. McCord Jr.': James W. McCord Jr. (id: ??, ns: 0),\n",
       " 'Jeb Stuart Magruder': Jeb Stuart Magruder (id: ??, ns: 0),\n",
       " 'John Dean': John Dean (id: ??, ns: 0),\n",
       " 'John E. Otto': John E. Otto (id: ??, ns: 0),\n",
       " 'John Ehrlichman': John Ehrlichman (id: ??, ns: 0),\n",
       " 'John F. Kennedy': John F. Kennedy (id: ??, ns: 0),\n",
       " 'John N. Mitchell': John N. Mitchell (id: ??, ns: 0),\n",
       " 'John Sirica': John Sirica (id: ??, ns: 0),\n",
       " 'Juris Doctor': Juris Doctor (id: ??, ns: 0),\n",
       " 'Katharine Graham': Katharine Graham (id: ??, ns: 0),\n",
       " 'Kenneth Parkinson': Kenneth Parkinson (id: ??, ns: 0),\n",
       " 'Korean Service Medal': Korean Service Medal (id: ??, ns: 0),\n",
       " 'Korean War': Korean War (id: ??, ns: 0),\n",
       " 'Leon Jaworski': Leon Jaworski (id: ??, ns: 0),\n",
       " 'Lesley Stahl': Lesley Stahl (id: ??, ns: 0),\n",
       " 'Los Angeles, California': Los Angeles, California (id: ??, ns: 0),\n",
       " 'Louis Freeh': Louis Freeh (id: ??, ns: 0),\n",
       " 'Lowell P. Weicker, Jr.': Lowell P. Weicker, Jr. (id: ??, ns: 0),\n",
       " 'Mark Felt': Mark Felt (id: ??, ns: 0),\n",
       " 'Mark Felt: The Man Who Brought Down the White House': Mark Felt: The Man Who Brought Down the White House (id: ??, ns: 0),\n",
       " \"Master list of Nixon's political opponents\": Master list of Nixon's political opponents (id: ??, ns: 0),\n",
       " 'Maurice Stans': Maurice Stans (id: ??, ns: 0),\n",
       " 'Missouri': Missouri (id: ??, ns: 0),\n",
       " 'National Defense Service Medal': National Defense Service Medal (id: ??, ns: 0),\n",
       " 'New London, Connecticut': New London, Connecticut (id: ??, ns: 0),\n",
       " 'Ngo Dinh Diem': Ngo Dinh Diem (id: ??, ns: 0),\n",
       " \"Nixon's Enemies List\": Nixon's Enemies List (id: ??, ns: 0),\n",
       " 'Nixon White House tapes': Nixon White House tapes (id: ??, ns: 0),\n",
       " 'Operation Gemstone': Operation Gemstone (id: ??, ns: 0),\n",
       " 'Operation Sandwedge': Operation Sandwedge (id: ??, ns: 0),\n",
       " 'Order of the Coif': Order of the Coif (id: ??, ns: 0),\n",
       " 'Pacific Ocean theater of World War II': Pacific Ocean theater of World War II (id: ??, ns: 0),\n",
       " 'Pancreatic cancer': Pancreatic cancer (id: ??, ns: 0),\n",
       " 'Peter W. Rodino': Peter W. Rodino (id: ??, ns: 0),\n",
       " 'Presidency of Richard Nixon': Presidency of Richard Nixon (id: ??, ns: 0),\n",
       " 'Republican Party (United States)': Republican Party (United States) (id: ??, ns: 0),\n",
       " 'Rice University': Rice University (id: ??, ns: 0),\n",
       " 'Richard Helms': Richard Helms (id: ??, ns: 0),\n",
       " 'Richard Kleindienst': Richard Kleindienst (id: ??, ns: 0),\n",
       " 'Richard Nixon': Richard Nixon (id: ??, ns: 0),\n",
       " \"Richard Nixon's resignation speech\": Richard Nixon's resignation speech (id: ??, ns: 0),\n",
       " 'Robert Mardian': Robert Mardian (id: ??, ns: 0),\n",
       " 'Robert Mueller': Robert Mueller (id: ??, ns: 0),\n",
       " 'Ronald Reagan': Ronald Reagan (id: ??, ns: 0),\n",
       " 'Rose Mary Woods': Rose Mary Woods (id: ??, ns: 0),\n",
       " 'Roswell Gilpatric': Roswell Gilpatric (id: ??, ns: 0),\n",
       " 'Sam Ervin': Sam Ervin (id: ??, ns: 0),\n",
       " 'Saturday Night Massacre': Saturday Night Massacre (id: ??, ns: 0),\n",
       " 'Slow Burn (podcast)': Slow Burn (podcast) (id: ??, ns: 0),\n",
       " 'Special agent': Special agent (id: ??, ns: 0),\n",
       " 'St. Louis': St. Louis (id: ??, ns: 0),\n",
       " 'St. Louis, Missouri': St. Louis, Missouri (id: ??, ns: 0),\n",
       " 'St. Thomas High School (Houston)': St. Thomas High School (Houston) (id: ??, ns: 0),\n",
       " 'St. Thomas High School (Houston, Texas)': St. Thomas High School (Houston, Texas) (id: ??, ns: 0),\n",
       " 'Stanley Finch': Stanley Finch (id: ??, ns: 0),\n",
       " 'Supreme Court of the United States': Supreme Court of the United States (id: ??, ns: 0),\n",
       " 'The Bulletin (Bend)': The Bulletin (Bend) (id: ??, ns: 0),\n",
       " 'The Final Days': The Final Days (id: ??, ns: 0),\n",
       " 'The Final Days (1989 film)': The Final Days (1989 film) (id: ??, ns: 0),\n",
       " 'The New York Times': The New York Times (id: ??, ns: 0),\n",
       " 'The Washington Post': The Washington Post (id: ??, ns: 0),\n",
       " 'Thomas J. Pickard': Thomas J. Pickard (id: ??, ns: 0),\n",
       " 'Time (magazine)': Time (magazine) (id: ??, ns: 0),\n",
       " 'Timeline of the Watergate scandal': Timeline of the Watergate scandal (id: ??, ns: 0),\n",
       " 'UPI': UPI (id: ??, ns: 0),\n",
       " 'USS Tiru (SS-416)': USS Tiru (SS-416) (id: ??, ns: 0),\n",
       " 'United Nations Korea Medal': United Nations Korea Medal (id: ??, ns: 0),\n",
       " 'United States': United States (id: ??, ns: 0),\n",
       " 'United States Assistant Attorney General': United States Assistant Attorney General (id: ??, ns: 0),\n",
       " 'United States Court of Appeals for the Armed Forces': United States Court of Appeals for the Armed Forces (id: ??, ns: 0),\n",
       " 'United States Court of Claims': United States Court of Claims (id: ??, ns: 0),\n",
       " 'United States Department of Justice': United States Department of Justice (id: ??, ns: 0),\n",
       " 'United States Deputy Attorney General': United States Deputy Attorney General (id: ??, ns: 0),\n",
       " 'United States House Committee on the Judiciary': United States House Committee on the Judiciary (id: ??, ns: 0),\n",
       " 'United States Naval Academy': United States Naval Academy (id: ??, ns: 0),\n",
       " 'United States Navy': United States Navy (id: ??, ns: 0),\n",
       " 'United States Secretary of Defense': United States Secretary of Defense (id: ??, ns: 0),\n",
       " 'United States Senate': United States Senate (id: ??, ns: 0),\n",
       " 'United States Senate Watergate Committee': United States Senate Watergate Committee (id: ??, ns: 0),\n",
       " 'United States courts of appeals': United States courts of appeals (id: ??, ns: 0),\n",
       " 'United States v. Nixon': United States v. Nixon (id: ??, ns: 0),\n",
       " 'VIAF (identifier)': VIAF (identifier) (id: ??, ns: 0),\n",
       " 'Vanity Fair (magazine)': Vanity Fair (magazine) (id: ??, ns: 0),\n",
       " 'Vernon A. Walters': Vernon A. Walters (id: ??, ns: 0),\n",
       " 'Virgilio Gonzalez': Virgilio Gonzalez (id: ??, ns: 0),\n",
       " 'Washington, D.C.': Washington, D.C. (id: ??, ns: 0),\n",
       " 'Washington Post': Washington Post (id: ??, ns: 0),\n",
       " 'Watergate Babies': Watergate Babies (id: ??, ns: 0),\n",
       " 'Watergate Seven': Watergate Seven (id: ??, ns: 0),\n",
       " 'Watergate complex': Watergate complex (id: ??, ns: 0),\n",
       " 'Watergate scandal': Watergate scandal (id: ??, ns: 0),\n",
       " 'White House Counsel': White House Counsel (id: ??, ns: 0),\n",
       " 'White House Plumbers': White House Plumbers (id: ??, ns: 0),\n",
       " 'William E. Allen': William E. Allen (id: ??, ns: 0),\n",
       " 'William H. Webster': William H. Webster (id: ??, ns: 0),\n",
       " 'William J. Burns': William J. Burns (id: ??, ns: 0),\n",
       " 'William J. Flynn': William J. Flynn (id: ??, ns: 0),\n",
       " 'William Ruckelshaus': William Ruckelshaus (id: ??, ns: 0),\n",
       " 'William S. Sessions': William S. Sessions (id: ??, ns: 0),\n",
       " 'World War II': World War II (id: ??, ns: 0),\n",
       " 'World War II Victory Medal': World War II Victory Medal (id: ??, ns: 0),\n",
       " 'File:WatergateFromAir.JPG': File:WatergateFromAir.JPG (id: ??, ns: 6),\n",
       " 'Template:FBI Directors navbox': Template:FBI Directors navbox (id: ??, ns: 10),\n",
       " 'Template:Watergate': Template:Watergate (id: ??, ns: 10),\n",
       " 'Template talk:FBI Directors navbox': Template talk:FBI Directors navbox (id: ??, ns: 11),\n",
       " 'Template talk:Watergate': Template talk:Watergate (id: ??, ns: 11),\n",
       " 'Help:Authority control': Help:Authority control (id: ??, ns: 12),\n",
       " 'Category:Articles with FAST identifiers': Category:Articles with FAST identifiers (id: ??, ns: 14),\n",
       " 'Category:Articles with GND identifiers': Category:Articles with GND identifiers (id: ??, ns: 14),\n",
       " 'Category:Articles with ISNI identifiers': Category:Articles with ISNI identifiers (id: ??, ns: 14),\n",
       " 'Category:Articles with LCCN identifiers': Category:Articles with LCCN identifiers (id: ??, ns: 14),\n",
       " 'Category:Articles with NARA identifiers': Category:Articles with NARA identifiers (id: ??, ns: 14),\n",
       " 'Category:Articles with SNAC-ID identifiers': Category:Articles with SNAC-ID identifiers (id: ??, ns: 14),\n",
       " 'Category:Articles with VIAF identifiers': Category:Articles with VIAF identifiers (id: ??, ns: 14),\n",
       " 'Category:Articles with WORLDCATID identifiers': Category:Articles with WORLDCATID identifiers (id: ??, ns: 14),\n",
       " 'Category:Harv and Sfn template errors': Category:Harv and Sfn template errors (id: ??, ns: 14),\n",
       " 'Category:Use mdy dates from July 2018': Category:Use mdy dates from July 2018 (id: ??, ns: 14),\n",
       " 'Portal:Biography': Portal:Biography (id: ??, ns: 100),\n",
       " 'Portal:World War II': Portal:World War II (id: ??, ns: 100)}"
      ]
     },
     "execution_count": 39,
     "metadata": {},
     "output_type": "execute_result"
    }
   ],
   "source": [
    "page_py.links"
   ]
  },
  {
   "cell_type": "code",
   "execution_count": 44,
   "id": "12c3312a",
   "metadata": {
    "scrolled": true
   },
   "outputs": [
    {
     "name": "stdout",
     "output_type": "stream",
     "text": [
      "{'warnings': {'main': {'warnings': 'Unrecognized parameters: rvprop, rvslots, titles.'}, 'parse': {'warnings': 'Unrecognized value for parameter \"prop\": revisions'}}, 'parse': {'title': 'API', 'pageid': 27697009}}\n"
     ]
    }
   ],
   "source": [
    "#api.php?action=query&prop=revisions&titles=Pet_door&rvslots=*&rvprop=content&formatversion=2 \n",
    "PARAMS = {\n",
    "    \"action\": \"query\",\n",
    "    \"format\": \"json\",\n",
    "    \"prop\": \"revisions\",\n",
    "    \"titles\": \"L. Patrick Gray\",\n",
    "    \"formatversion\": \"2\",\n",
    "    \"rvprop\": \"content\",\n",
    "    \"rvslots\": \"*\"\n",
    "}\n",
    "R = S.get(url=URL, params=PARAMS)\n",
    "DATA = R.json()\n",
    "print(DATA)"
   ]
  },
  {
   "cell_type": "code",
   "execution_count": 45,
   "id": "35068a40",
   "metadata": {},
   "outputs": [
    {
     "name": "stdout",
     "output_type": "stream",
     "text": [
      "{'warnings': {'main': {'*': 'Unrecognized parameter: titles.'}}, 'parse': {'title': 'API', 'pageid': 27697009, 'links': []}}\n"
     ]
    }
   ],
   "source": [
    "#api.php?action=query&prop=revisions&titles=Pet_door&rvslots=*&rvprop=content&formatversion=2 \n",
    "PARAMS = {\n",
    "    \"action\": \"parse\",\n",
    "    \"format\": \"json\",\n",
    "    \"prop\": \"links\",\n",
    "    \"titles\": \"L. Patrick Gray\",\n",
    "}\n",
    "R = S.get(url=URL, params=PARAMS)\n",
    "DATA = R.json()\n",
    "print(DATA)"
   ]
  },
  {
   "cell_type": "code",
   "execution_count": 14,
   "id": "6b1e00fb",
   "metadata": {},
   "outputs": [
    {
     "name": "stdout",
     "output_type": "stream",
     "text": [
      "{'parse': {'title': 'L. Patrick Gray', 'pageid': 453736, 'links': [{'ns': 14, 'exists': '', '*': 'Category:Use mdy dates from July 2018'}, {'ns': 14, 'exists': '', '*': 'Category:Harv and Sfn template errors'}, {'ns': 0, 'exists': '', '*': 'Atlantic Beach, Florida'}, {'ns': 0, 'exists': '', '*': 'Bachelor of Science'}, {'ns': 0, 'exists': '', '*': 'Captain (United States O-6)'}, {'ns': 0, 'exists': '', '*': 'Clyde Tolson'}, {'ns': 0, 'exists': '', '*': 'Deep Throat (Watergate)'}, {'ns': 0, 'exists': '', '*': 'Director of the Federal Bureau of Investigation'}, {'ns': 0, 'exists': '', '*': 'E. Howard Hunt'}, {'ns': 0, 'exists': '', '*': 'Florida'}, {'ns': 0, 'exists': '', '*': 'George Washington University'}, {'ns': 0, 'exists': '', '*': 'Harlington Wood Jr.'}, {'ns': 0, 'exists': '', '*': 'ISBN (identifier)'}, {'ns': 0, 'exists': '', '*': 'John Dean'}, {'ns': 0, 'exists': '', '*': 'Juris Doctor'}, {'ns': 0, 'exists': '', '*': 'Korean War'}, {'ns': 0, 'exists': '', '*': 'Mark Felt'}, {'ns': 0, 'exists': '', '*': 'Missouri'}, {'ns': 0, 'exists': '', '*': 'Republican Party (United States)'}, {'ns': 0, 'exists': '', '*': 'Rice University'}, {'ns': 0, 'exists': '', '*': 'Richard Nixon'}, {'ns': 0, 'exists': '', '*': 'St. Louis'}, {'ns': 0, 'exists': '', '*': 'The Washington Post'}, {'ns': 0, 'exists': '', '*': 'United States'}, {'ns': 0, 'exists': '', '*': 'United States Assistant Attorney General'}, {'ns': 0, 'exists': '', '*': 'United States Naval Academy'}, {'ns': 0, 'exists': '', '*': 'United States Navy'}, {'ns': 0, 'exists': '', '*': 'Watergate scandal'}, {'ns': 0, 'exists': '', '*': 'William Ruckelshaus'}, {'ns': 0, 'exists': '', '*': 'World War II'}]}}\n",
      "['Category:Use mdy dates from July 2018', 'Category:Harv and Sfn template errors', 'Atlantic Beach, Florida', 'Bachelor of Science', 'Captain (United States O-6)', 'Clyde Tolson', 'Deep Throat (Watergate)', 'Director of the Federal Bureau of Investigation', 'E. Howard Hunt', 'Florida', 'George Washington University', 'Harlington Wood Jr.', 'ISBN (identifier)', 'John Dean', 'Juris Doctor', 'Korean War', 'Mark Felt', 'Missouri', 'Republican Party (United States)', 'Rice University', 'Richard Nixon', 'St. Louis', 'The Washington Post', 'United States', 'United States Assistant Attorney General', 'United States Naval Academy', 'United States Navy', 'Watergate scandal', 'William Ruckelshaus', 'World War II']\n"
     ]
    }
   ],
   "source": [
    "link = \"https://en.wikipedia.org/w/api.php?action=parse&prop=links&page=L._Patrick_Gray&section=0&format=json\"\n",
    "x = requests.get(link)\n",
    "print(x.json())\n",
    "entities = [entity['*'] for entity in x.json()['parse']['links']]\n",
    "print(entities)"
   ]
  },
  {
   "cell_type": "code",
   "execution_count": 59,
   "id": "bc745f26",
   "metadata": {},
   "outputs": [
    {
     "name": "stdout",
     "output_type": "stream",
     "text": [
      "{'batchcomplete': '', 'continue': {'sroffset': 10, 'continue': '-||'}, 'query': {'searchinfo': {'totalhits': 50592}, 'search': [{'ns': 0, 'title': 'Julie Walters', 'pageid': 169143, 'size': 49394, 'wordcount': 3515, 'snippet': 'Dame Julia Mary <span class=\"searchmatch\">Walters</span> DBE (born 22 February 1950), known professionally as Julie <span class=\"searchmatch\">Walters</span>, is an English actress. She is the recipient of four British', 'timestamp': '2022-10-21T17:55:18Z'}, {'ns': 0, 'title': 'Barbara Walters', 'pageid': 335069, 'size': 52967, 'wordcount': 5349, 'snippet': 'with viewers, <span class=\"searchmatch\">Walters</span> appeared as a host of numerous television programs, including Today, The View, 20/20, and the ABC Evening News. <span class=\"searchmatch\">Walters</span> was a working', 'timestamp': '2022-10-23T20:46:37Z'}, {'ns': 0, 'title': 'Thorley Walters', 'pageid': 2091811, 'size': 11445, 'wordcount': 1108, 'snippet': 'Stretch and Carlton-Browne of the FO. <span class=\"searchmatch\">Walters</span> was born in Teigngrace, Devon, the son of Prebendary Thomas Collins <span class=\"searchmatch\">Walters</span> of Silverton, Devon and his wife', 'timestamp': '2021-09-23T00:07:25Z'}, {'ns': 0, 'title': 'Brandy (Scott English song)', 'pageid': 3196335, 'size': 22830, 'wordcount': 1752, 'snippet': 'UK Singles Chart. &quot;Brandy&quot; was recorded by New Zealand singer Bunny <span class=\"searchmatch\">Walters</span> in <span class=\"searchmatch\">1972</span>, but achieved greater success when released in the United States in', 'timestamp': '2022-08-21T15:12:42Z'}, {'ns': 0, 'title': 'Vernon A. Walters', 'pageid': 775647, 'size': 17020, 'wordcount': 1447, 'snippet': 'Vernon Anthony <span class=\"searchmatch\">Walters</span> (January 3, 1917 – February 10, 2002) was a United States Army officer and a diplomat. Most notably, he served from <span class=\"searchmatch\">1972</span> to 1976 as', 'timestamp': '2022-08-04T12:34:32Z'}, {'ns': 0, 'title': '1972', 'pageid': 34671, 'size': 133603, 'wordcount': 13215, 'snippet': '<span class=\"searchmatch\">1972</span> January February March April May June July August September October November December Wikimedia Commons has media related to <span class=\"searchmatch\">1972</span>. <span class=\"searchmatch\">1972</span> (MCMLXXII)', 'timestamp': '2022-10-23T09:19:12Z'}, {'ns': 0, 'title': 'Laurie Walters', 'pageid': 8866030, 'size': 4805, 'wordcount': 234, 'snippet': 'child in the family. <span class=\"searchmatch\">Walters</span> is six months older than Betty Buckley (born July 3, 1947), who played her character\\'s stepmother. <span class=\"searchmatch\">Walters</span>\\' first screen role', 'timestamp': '2022-09-23T02:31:56Z'}, {'ns': 0, 'title': 'Billy Walters (gambler)', 'pageid': 56771426, 'size': 17028, 'wordcount': 1934, 'snippet': 'than $100 million. <span class=\"searchmatch\">Walters</span> grew up poor in the rural town of Munfordville, Kentucky. His father, an auto mechanic, died when <span class=\"searchmatch\">Walters</span> was 18 months old', 'timestamp': '2022-08-30T20:04:05Z'}, {'ns': 0, 'title': '1972 United States presidential election', 'pageid': 40568, 'size': 92081, 'wordcount': 6138, 'snippet': 'The <span class=\"searchmatch\">1972</span> United States presidential election was the 47th quadrennial presidential election. It was held on Tuesday, November 7, <span class=\"searchmatch\">1972</span>. Incumbent Republican', 'timestamp': '2022-10-24T00:23:17Z'}, {'ns': 0, 'title': 'Steve Walters (footballer)', 'pageid': 28371837, 'size': 13228, 'wordcount': 1139, 'snippet': 'Steve <span class=\"searchmatch\">Walters</span> (born 9 January <span class=\"searchmatch\">1972</span>) is an English former footballer who played in the Football League for Crewe Alexandra and in the Football Conference', 'timestamp': '2022-09-06T10:34:30Z'}]}}\n"
     ]
    }
   ],
   "source": [
    "SEARCHPAGE = \"Walters 1972\"\n",
    "\n",
    "PARAMS = {\n",
    "    \"action\": \"query\",\n",
    "    \"format\": \"json\",\n",
    "    \"list\": \"search\",\n",
    "    \"srsearch\": SEARCHPAGE\n",
    "}\n",
    "\n",
    "R = S.get(url=URL, params=PARAMS)\n",
    "DATA = R.json()\n",
    "print(DATA)"
   ]
  },
  {
   "cell_type": "code",
   "execution_count": null,
   "id": "322cb72e",
   "metadata": {},
   "outputs": [],
   "source": []
  }
 ],
 "metadata": {
  "kernelspec": {
   "display_name": "Python 3 (ipykernel)",
   "language": "python",
   "name": "python3"
  },
  "language_info": {
   "codemirror_mode": {
    "name": "ipython",
    "version": 3
   },
   "file_extension": ".py",
   "mimetype": "text/x-python",
   "name": "python",
   "nbconvert_exporter": "python",
   "pygments_lexer": "ipython3",
   "version": "3.7.13"
  }
 },
 "nbformat": 4,
 "nbformat_minor": 5
}
