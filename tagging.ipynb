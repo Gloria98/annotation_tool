{
 "cells": [
  {
   "cell_type": "code",
   "execution_count": null,
   "id": "50a43dd6",
   "metadata": {},
   "outputs": [],
   "source": [
    "import numpy as np\n",
    "import pandas as pd\n",
    "from pdfminer.high_level import extract_text\n",
    "import re\n",
    "import spacy\n",
    "from spacy import displacy\n",
    "from bs4 import BeautifulSoup\n",
    "import json"
   ]
  },
  {
   "cell_type": "code",
   "execution_count": null,
   "id": "4404826a",
   "metadata": {},
   "outputs": [],
   "source": [
    "filename = \"../data/exhibit_01.pdf\"\n",
    "text = extract_text(filename)\n",
    "content2 = text\n",
    "splits = content2.split('\\n\\n')"
   ]
  },
  {
   "cell_type": "code",
   "execution_count": null,
   "id": "71fee007",
   "metadata": {},
   "outputs": [],
   "source": [
    "# might be different for each pdf\n",
    "splits = splits[1:]\n",
    "speak_content = []\n",
    "all_speakers = []\n",
    "\n",
    "i = 0\n",
    "while i < len(splits):\n",
    "    part = splits[i]\n",
    "    if part == 'HALDEMAN:' or part == 'PRESIDENT:':\n",
    "        all_speakers.append(part[:-1])\n",
    "        i += 1\n",
    "        continue\n",
    "    if part == '' or part == '*'*10:\n",
    "        i += 1\n",
    "        continue\n",
    "    if part[:len('JUNE 23, 1972')] == 'JUNE 23, 1972':\n",
    "        i += 2\n",
    "        continue\n",
    "    if len(part) != len(part.replace('\\x0c', '')):\n",
    "        part = part.replace('\\x0c', '')\n",
    "        if part[:len('JUNE 23, 1972')] == 'JUNE 23, 1972':\n",
    "            i += 2\n",
    "            continue\n",
    "        else:\n",
    "            speak_content[-1] = speak_content[-1] + '\\n' + part\n",
    "            i += 1\n",
    "            continue\n",
    "    speak_content.append(part)\n",
    "    i += 1"
   ]
  },
  {
   "cell_type": "code",
   "execution_count": null,
   "id": "29a00ab6",
   "metadata": {},
   "outputs": [],
   "source": [
    "speak_content = speak_content[2:]"
   ]
  },
  {
   "cell_type": "code",
   "execution_count": null,
   "id": "ea66d561",
   "metadata": {},
   "outputs": [],
   "source": [
    "nlp = spacy.load(\"en_core_web_sm\")"
   ]
  },
  {
   "cell_type": "code",
   "execution_count": null,
   "id": "fb483567",
   "metadata": {},
   "outputs": [],
   "source": [
    "def get_entities(sent):\n",
    "    doc = nlp(sent)\n",
    "    entities = []\n",
    "    for ent in doc.ents:\n",
    "        entities.append([ent.text, ent.label_, ent.start_char, ent.end_char])\n",
    "    return entities\n",
    "\n",
    "def tagging(content):\n",
    "    soup = BeautifulSoup('<p></p>','html.parser')\n",
    "    entities = get_entities(content)\n",
    "    if len(entities) == 0:\n",
    "        soup.p.append(content)\n",
    "    else:\n",
    "        for i, entity in enumerate(entities):\n",
    "            if i == 0:\n",
    "                soup.p.append(content[0:entity[2]])\n",
    "            else:\n",
    "                soup.p.append(content[entities[i-1][3]:entity[2]])\n",
    "            new_tag = soup.new_tag('span')  # Create a new tag\n",
    "            new_tag['class'] = 'entity-'+entity[1]\n",
    "            new_tag.append(content[entity[2]:entity[3]])\n",
    "            soup.p.append(new_tag)\n",
    "        soup.p.append(content[entities[-1][3]:])\n",
    "    return soup"
   ]
  },
  {
   "cell_type": "code",
   "execution_count": null,
   "id": "eb3e6f2c",
   "metadata": {},
   "outputs": [],
   "source": [
    "conversion_json = {'lines':[]}\n",
    "for speaker, paragraph in zip(all_speakers, speak_content):\n",
    "    soup = tagging(paragraph)\n",
    "    conversion_json['lines'].append({'speaker': speaker, 'words': str(soup)})"
   ]
  },
  {
   "cell_type": "code",
   "execution_count": null,
   "id": "a5a2d0e1",
   "metadata": {},
   "outputs": [],
   "source": [
    "json_object = json.dumps(conversion_json, indent=4)\n",
    " \n",
    "# Writing to sample.json\n",
    "with open(\"../data_json/exhibit_01.json\", \"w\") as outfile:\n",
    "    outfile.write(json_object)"
   ]
  }
 ],
 "metadata": {
  "kernelspec": {
   "display_name": "Python 3 (ipykernel)",
   "language": "python",
   "name": "python3"
  },
  "language_info": {
   "codemirror_mode": {
    "name": "ipython",
    "version": 3
   },
   "file_extension": ".py",
   "mimetype": "text/x-python",
   "name": "python",
   "nbconvert_exporter": "python",
   "pygments_lexer": "ipython3",
   "version": "3.7.13"
  }
 },
 "nbformat": 4,
 "nbformat_minor": 5
}
