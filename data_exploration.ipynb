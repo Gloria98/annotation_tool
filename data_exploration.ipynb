{
 "cells": [
  {
   "cell_type": "code",
   "execution_count": 3,
   "id": "09f3cb58",
   "metadata": {
    "scrolled": true
   },
   "outputs": [
    {
     "name": "stdout",
     "output_type": "stream",
     "text": [
      "Collecting en_core_web_sm==2.1.0\n",
      "  Downloading https://github.com/explosion/spacy-models/releases/download/en_core_web_sm-2.1.0/en_core_web_sm-2.1.0.tar.gz (11.1 MB)\n",
      "\u001b[2K     \u001b[90m━━━━━━━━━━━━━━━━━━━━━━━━━━━━━━━━━━━━━━━━\u001b[0m \u001b[32m11.1/11.1 MB\u001b[0m \u001b[31m15.0 MB/s\u001b[0m eta \u001b[36m0:00:00\u001b[0ma \u001b[36m0:00:01\u001b[0m\n",
      "\u001b[?25h  Preparing metadata (setup.py) ... \u001b[?25ldone\n",
      "\u001b[?25hBuilding wheels for collected packages: en_core_web_sm\n",
      "  Building wheel for en_core_web_sm (setup.py) ... \u001b[?25ldone\n",
      "\u001b[?25h  Created wheel for en_core_web_sm: filename=en_core_web_sm-2.1.0-py3-none-any.whl size=11074412 sha256=36b68a51c35a6e23346dfe27a54753789fa6a617d9bb57e19c4c1c582df50570\n",
      "  Stored in directory: /private/var/folders/_9/mdgsjzf55ylg9ll71zxc0k900000gn/T/pip-ephem-wheel-cache-w8yvt58_/wheels/59/4f/8c/0dbaab09a776d1fa3740e9465078bfd903cc22f3985382b496\n",
      "Successfully built en_core_web_sm\n",
      "Installing collected packages: en_core_web_sm\n",
      "  Attempting uninstall: en_core_web_sm\n",
      "    Found existing installation: en-core-web-sm 2.3.1\n",
      "    Uninstalling en-core-web-sm-2.3.1:\n",
      "      Successfully uninstalled en-core-web-sm-2.3.1\n",
      "Successfully installed en_core_web_sm-2.1.0\n",
      "\u001b[38;5;2m✔ Download and installation successful\u001b[0m\n",
      "You can now load the model via spacy.load('en_core_web_sm')\n",
      "\u001b[38;5;2m✔ Linking successful\u001b[0m\n",
      "/Users/mengtian_guo/opt/anaconda3/envs/spacy_2/lib/python3.7/site-packages/en_core_web_sm\n",
      "-->\n",
      "/Users/mengtian_guo/opt/anaconda3/envs/spacy_2/lib/python3.7/site-packages/spacy/data/en\n",
      "You can now load the model via spacy.load('en')\n"
     ]
    }
   ],
   "source": [
    "!python -m spacy download en"
   ]
  },
  {
   "cell_type": "code",
   "execution_count": 1,
   "id": "54673462",
   "metadata": {
    "scrolled": true
   },
   "outputs": [
    {
     "name": "stdout",
     "output_type": "stream",
     "text": [
      "Collecting pdfminer.six\n",
      "  Using cached pdfminer.six-20220524-py3-none-any.whl (5.6 MB)\n",
      "Requirement already satisfied: charset-normalizer>=2.0.0 in /Users/mengtian_guo/opt/anaconda3/envs/spacy_2/lib/python3.7/site-packages (from pdfminer.six) (2.1.1)\n",
      "Collecting cryptography>=36.0.0\n",
      "  Using cached cryptography-38.0.1-cp36-abi3-macosx_10_10_x86_64.whl (2.8 MB)\n",
      "Requirement already satisfied: cffi>=1.12 in /Users/mengtian_guo/opt/anaconda3/envs/spacy_2/lib/python3.7/site-packages (from cryptography>=36.0.0->pdfminer.six) (1.15.1)\n",
      "Requirement already satisfied: pycparser in /Users/mengtian_guo/opt/anaconda3/envs/spacy_2/lib/python3.7/site-packages (from cffi>=1.12->cryptography>=36.0.0->pdfminer.six) (2.21)\n",
      "Installing collected packages: cryptography, pdfminer.six\n",
      "Successfully installed cryptography-38.0.1 pdfminer.six-20220524\n"
     ]
    }
   ],
   "source": [
    "!pip install pdfminer.six"
   ]
  },
  {
   "cell_type": "code",
   "execution_count": 18,
   "id": "164bb2ef",
   "metadata": {
    "scrolled": true
   },
   "outputs": [
    {
     "name": "stdout",
     "output_type": "stream",
     "text": [
      "Requirement already satisfied: pip in /Users/mengtian_guo/opt/anaconda3/envs/nlp/lib/python3.8/site-packages (21.2.4)\n",
      "Collecting pip\n",
      "  Downloading pip-22.2.2-py3-none-any.whl (2.0 MB)\n",
      "\u001b[K     |████████████████████████████████| 2.0 MB 2.1 MB/s eta 0:00:01\n",
      "\u001b[?25hRequirement already satisfied: setuptools in /Users/mengtian_guo/opt/anaconda3/envs/nlp/lib/python3.8/site-packages (58.0.4)\n",
      "Collecting setuptools\n",
      "  Downloading setuptools-65.3.0-py3-none-any.whl (1.2 MB)\n",
      "\u001b[K     |████████████████████████████████| 1.2 MB 6.0 MB/s eta 0:00:01\n",
      "\u001b[?25hRequirement already satisfied: wheel in /Users/mengtian_guo/opt/anaconda3/envs/nlp/lib/python3.8/site-packages (0.36.2)\n",
      "Collecting wheel\n",
      "  Downloading wheel-0.37.1-py2.py3-none-any.whl (35 kB)\n",
      "Installing collected packages: wheel, setuptools, pip\n",
      "  Attempting uninstall: wheel\n",
      "    Found existing installation: wheel 0.36.2\n",
      "    Uninstalling wheel-0.36.2:\n",
      "      Successfully uninstalled wheel-0.36.2\n",
      "  Attempting uninstall: setuptools\n",
      "    Found existing installation: setuptools 58.0.4\n",
      "    Uninstalling setuptools-58.0.4:\n",
      "      Successfully uninstalled setuptools-58.0.4\n",
      "  Attempting uninstall: pip\n",
      "    Found existing installation: pip 21.2.4\n",
      "    Uninstalling pip-21.2.4:\n",
      "      Successfully uninstalled pip-21.2.4\n",
      "Successfully installed pip-22.2.2 setuptools-65.3.0 wheel-0.37.1\n"
     ]
    }
   ],
   "source": [
    "!pip install -U pip setuptools wheel"
   ]
  },
  {
   "cell_type": "code",
   "execution_count": 19,
   "id": "34652824",
   "metadata": {
    "scrolled": true
   },
   "outputs": [
    {
     "name": "stdout",
     "output_type": "stream",
     "text": [
      "Collecting spacy\n",
      "  Downloading spacy-3.4.1-cp38-cp38-macosx_10_9_x86_64.whl (6.5 MB)\n",
      "\u001b[2K     \u001b[90m━━━━━━━━━━━━━━━━━━━━━━━━━━━━━━━━━━━━━━━━\u001b[0m \u001b[32m6.5/6.5 MB\u001b[0m \u001b[31m5.9 MB/s\u001b[0m eta \u001b[36m0:00:00\u001b[0m00:01\u001b[0m00:01\u001b[0m\n",
      "\u001b[?25hCollecting murmurhash<1.1.0,>=0.28.0\n",
      "  Downloading murmurhash-1.0.8-cp38-cp38-macosx_10_9_x86_64.whl (18 kB)\n",
      "Collecting wasabi<1.1.0,>=0.9.1\n",
      "  Downloading wasabi-0.10.1-py3-none-any.whl (26 kB)\n",
      "Requirement already satisfied: tqdm<5.0.0,>=4.38.0 in /Users/mengtian_guo/opt/anaconda3/envs/nlp/lib/python3.8/site-packages (from spacy) (4.61.1)\n",
      "Collecting preshed<3.1.0,>=3.0.2\n",
      "  Downloading preshed-3.0.7-cp38-cp38-macosx_10_9_x86_64.whl (107 kB)\n",
      "\u001b[2K     \u001b[90m━━━━━━━━━━━━━━━━━━━━━━━━━━━━━━━━━━━━━━━\u001b[0m \u001b[32m107.4/107.4 kB\u001b[0m \u001b[31m3.5 MB/s\u001b[0m eta \u001b[36m0:00:00\u001b[0m\n",
      "\u001b[?25hRequirement already satisfied: setuptools in /Users/mengtian_guo/opt/anaconda3/envs/nlp/lib/python3.8/site-packages (from spacy) (65.3.0)\n",
      "Requirement already satisfied: packaging>=20.0 in /Users/mengtian_guo/opt/anaconda3/envs/nlp/lib/python3.8/site-packages (from spacy) (21.0)\n",
      "Collecting langcodes<4.0.0,>=3.2.0\n",
      "  Downloading langcodes-3.3.0-py3-none-any.whl (181 kB)\n",
      "\u001b[2K     \u001b[90m━━━━━━━━━━━━━━━━━━━━━━━━━━━━━━━━━━━━━━━\u001b[0m \u001b[32m181.6/181.6 kB\u001b[0m \u001b[31m5.1 MB/s\u001b[0m eta \u001b[36m0:00:00\u001b[0m\n",
      "\u001b[?25hRequirement already satisfied: requests<3.0.0,>=2.13.0 in /Users/mengtian_guo/opt/anaconda3/envs/nlp/lib/python3.8/site-packages (from spacy) (2.24.0)\n",
      "Collecting typer<0.5.0,>=0.3.0\n",
      "  Downloading typer-0.4.2-py3-none-any.whl (27 kB)\n",
      "Collecting pydantic!=1.8,!=1.8.1,<1.10.0,>=1.7.4\n",
      "  Downloading pydantic-1.9.2-cp38-cp38-macosx_10_9_x86_64.whl (2.9 MB)\n",
      "\u001b[2K     \u001b[90m━━━━━━━━━━━━━━━━━━━━━━━━━━━━━━━━━━━━━━━━\u001b[0m \u001b[32m2.9/2.9 MB\u001b[0m \u001b[31m7.4 MB/s\u001b[0m eta \u001b[36m0:00:00\u001b[0m00:01\u001b[0m00:01\u001b[0mm\n",
      "\u001b[?25hCollecting spacy-loggers<2.0.0,>=1.0.0\n",
      "  Downloading spacy_loggers-1.0.3-py3-none-any.whl (9.3 kB)\n",
      "Requirement already satisfied: numpy>=1.15.0 in /Users/mengtian_guo/opt/anaconda3/envs/nlp/lib/python3.8/site-packages (from spacy) (1.21.2)\n",
      "Requirement already satisfied: jinja2 in /Users/mengtian_guo/opt/anaconda3/envs/nlp/lib/python3.8/site-packages (from spacy) (3.0.0)\n",
      "Collecting srsly<3.0.0,>=2.4.3\n",
      "  Downloading srsly-2.4.4-cp38-cp38-macosx_10_9_x86_64.whl (457 kB)\n",
      "\u001b[2K     \u001b[90m━━━━━━━━━━━━━━━━━━━━━━━━━━━━━━━━━━━━━━━\u001b[0m \u001b[32m457.9/457.9 kB\u001b[0m \u001b[31m4.1 MB/s\u001b[0m eta \u001b[36m0:00:00\u001b[0ma \u001b[36m0:00:01\u001b[0m\n",
      "\u001b[?25hCollecting spacy-legacy<3.1.0,>=3.0.9\n",
      "  Downloading spacy_legacy-3.0.10-py2.py3-none-any.whl (21 kB)\n",
      "Collecting pathy>=0.3.5\n",
      "  Downloading pathy-0.6.2-py3-none-any.whl (42 kB)\n",
      "\u001b[2K     \u001b[90m━━━━━━━━━━━━━━━━━━━━━━━━━━━━━━━━━━━━━━━━\u001b[0m \u001b[32m42.8/42.8 kB\u001b[0m \u001b[31m1.2 MB/s\u001b[0m eta \u001b[36m0:00:00\u001b[0m\n",
      "\u001b[?25hCollecting cymem<2.1.0,>=2.0.2\n",
      "  Downloading cymem-2.0.6-cp38-cp38-macosx_10_9_x86_64.whl (31 kB)\n",
      "Collecting catalogue<2.1.0,>=2.0.6\n",
      "  Downloading catalogue-2.0.8-py3-none-any.whl (17 kB)\n",
      "Collecting thinc<8.2.0,>=8.1.0\n",
      "  Downloading thinc-8.1.1-cp38-cp38-macosx_10_9_x86_64.whl (752 kB)\n",
      "\u001b[2K     \u001b[90m━━━━━━━━━━━━━━━━━━━━━━━━━━━━━━━━━━━━━━━\u001b[0m \u001b[32m752.1/752.1 kB\u001b[0m \u001b[31m5.6 MB/s\u001b[0m eta \u001b[36m0:00:00\u001b[0m00:01\u001b[0m00:01\u001b[0m\n",
      "\u001b[?25hRequirement already satisfied: pyparsing>=2.0.2 in /Users/mengtian_guo/opt/anaconda3/envs/nlp/lib/python3.8/site-packages (from packaging>=20.0->spacy) (2.4.7)\n",
      "Requirement already satisfied: smart-open<6.0.0,>=5.2.1 in /Users/mengtian_guo/opt/anaconda3/envs/nlp/lib/python3.8/site-packages (from pathy>=0.3.5->spacy) (5.2.1)\n",
      "Requirement already satisfied: typing-extensions>=3.7.4.3 in /Users/mengtian_guo/opt/anaconda3/envs/nlp/lib/python3.8/site-packages (from pydantic!=1.8,!=1.8.1,<1.10.0,>=1.7.4->spacy) (3.10.0.0)\n",
      "Requirement already satisfied: urllib3!=1.25.0,!=1.25.1,<1.26,>=1.21.1 in /Users/mengtian_guo/opt/anaconda3/envs/nlp/lib/python3.8/site-packages (from requests<3.0.0,>=2.13.0->spacy) (1.25.11)\n",
      "Requirement already satisfied: idna<3,>=2.5 in /Users/mengtian_guo/opt/anaconda3/envs/nlp/lib/python3.8/site-packages (from requests<3.0.0,>=2.13.0->spacy) (2.10)\n",
      "Requirement already satisfied: certifi>=2017.4.17 in /Users/mengtian_guo/opt/anaconda3/envs/nlp/lib/python3.8/site-packages (from requests<3.0.0,>=2.13.0->spacy) (2021.10.8)\n",
      "Requirement already satisfied: chardet<4,>=3.0.2 in /Users/mengtian_guo/opt/anaconda3/envs/nlp/lib/python3.8/site-packages (from requests<3.0.0,>=2.13.0->spacy) (3.0.4)\n",
      "Collecting blis<0.10.0,>=0.7.8\n",
      "  Downloading blis-0.9.1-cp38-cp38-macosx_10_9_x86_64.whl (5.3 MB)\n",
      "\u001b[2K     \u001b[90m━━━━━━━━━━━━━━━━━━━━━━━━━━━━━━━━━━━━━━━━\u001b[0m \u001b[32m5.3/5.3 MB\u001b[0m \u001b[31m6.3 MB/s\u001b[0m eta \u001b[36m0:00:00\u001b[0m00:01\u001b[0m00:01\u001b[0mm\n",
      "\u001b[?25hCollecting confection<1.0.0,>=0.0.1\n",
      "  Downloading confection-0.0.1-py3-none-any.whl (32 kB)\n",
      "Requirement already satisfied: click<9.0.0,>=7.1.1 in /Users/mengtian_guo/opt/anaconda3/envs/nlp/lib/python3.8/site-packages (from typer<0.5.0,>=0.3.0->spacy) (8.0.1)\n",
      "Requirement already satisfied: MarkupSafe>=2.0.0rc2 in /Users/mengtian_guo/opt/anaconda3/envs/nlp/lib/python3.8/site-packages (from jinja2->spacy) (2.0.1)\n",
      "Installing collected packages: wasabi, cymem, typer, spacy-loggers, spacy-legacy, pydantic, murmurhash, langcodes, catalogue, blis, srsly, preshed, pathy, confection, thinc, spacy\n",
      "Successfully installed blis-0.9.1 catalogue-2.0.8 confection-0.0.1 cymem-2.0.6 langcodes-3.3.0 murmurhash-1.0.8 pathy-0.6.2 preshed-3.0.7 pydantic-1.9.2 spacy-3.4.1 spacy-legacy-3.0.10 spacy-loggers-1.0.3 srsly-2.4.4 thinc-8.1.1 typer-0.4.2 wasabi-0.10.1\n"
     ]
    }
   ],
   "source": [
    "!pip install -U spacy"
   ]
  },
  {
   "cell_type": "code",
   "execution_count": 20,
   "id": "d66c17b3",
   "metadata": {
    "scrolled": true
   },
   "outputs": [
    {
     "name": "stdout",
     "output_type": "stream",
     "text": [
      "Collecting en-core-web-sm==3.4.0\n",
      "  Downloading https://github.com/explosion/spacy-models/releases/download/en_core_web_sm-3.4.0/en_core_web_sm-3.4.0-py3-none-any.whl (12.8 MB)\n",
      "\u001b[2K     \u001b[90m━━━━━━━━━━━━━━━━━━━━━━━━━━━━━━━━━━━━━━━\u001b[0m \u001b[32m12.8/12.8 MB\u001b[0m \u001b[31m238.3 kB/s\u001b[0m eta \u001b[36m0:00:00\u001b[0m00:01\u001b[0m00:02\u001b[0m\n",
      "\u001b[?25hRequirement already satisfied: spacy<3.5.0,>=3.4.0 in /Users/mengtian_guo/opt/anaconda3/envs/nlp/lib/python3.8/site-packages (from en-core-web-sm==3.4.0) (3.4.1)\n",
      "Requirement already satisfied: setuptools in /Users/mengtian_guo/opt/anaconda3/envs/nlp/lib/python3.8/site-packages (from spacy<3.5.0,>=3.4.0->en-core-web-sm==3.4.0) (65.3.0)\n",
      "Requirement already satisfied: thinc<8.2.0,>=8.1.0 in /Users/mengtian_guo/opt/anaconda3/envs/nlp/lib/python3.8/site-packages (from spacy<3.5.0,>=3.4.0->en-core-web-sm==3.4.0) (8.1.1)\n",
      "Requirement already satisfied: srsly<3.0.0,>=2.4.3 in /Users/mengtian_guo/opt/anaconda3/envs/nlp/lib/python3.8/site-packages (from spacy<3.5.0,>=3.4.0->en-core-web-sm==3.4.0) (2.4.4)\n",
      "Requirement already satisfied: packaging>=20.0 in /Users/mengtian_guo/opt/anaconda3/envs/nlp/lib/python3.8/site-packages (from spacy<3.5.0,>=3.4.0->en-core-web-sm==3.4.0) (21.0)\n",
      "Requirement already satisfied: pathy>=0.3.5 in /Users/mengtian_guo/opt/anaconda3/envs/nlp/lib/python3.8/site-packages (from spacy<3.5.0,>=3.4.0->en-core-web-sm==3.4.0) (0.6.2)\n",
      "Requirement already satisfied: spacy-loggers<2.0.0,>=1.0.0 in /Users/mengtian_guo/opt/anaconda3/envs/nlp/lib/python3.8/site-packages (from spacy<3.5.0,>=3.4.0->en-core-web-sm==3.4.0) (1.0.3)\n",
      "Requirement already satisfied: murmurhash<1.1.0,>=0.28.0 in /Users/mengtian_guo/opt/anaconda3/envs/nlp/lib/python3.8/site-packages (from spacy<3.5.0,>=3.4.0->en-core-web-sm==3.4.0) (1.0.8)\n",
      "Requirement already satisfied: pydantic!=1.8,!=1.8.1,<1.10.0,>=1.7.4 in /Users/mengtian_guo/opt/anaconda3/envs/nlp/lib/python3.8/site-packages (from spacy<3.5.0,>=3.4.0->en-core-web-sm==3.4.0) (1.9.2)\n",
      "Requirement already satisfied: tqdm<5.0.0,>=4.38.0 in /Users/mengtian_guo/opt/anaconda3/envs/nlp/lib/python3.8/site-packages (from spacy<3.5.0,>=3.4.0->en-core-web-sm==3.4.0) (4.61.1)\n",
      "Requirement already satisfied: jinja2 in /Users/mengtian_guo/opt/anaconda3/envs/nlp/lib/python3.8/site-packages (from spacy<3.5.0,>=3.4.0->en-core-web-sm==3.4.0) (3.0.0)\n",
      "Requirement already satisfied: spacy-legacy<3.1.0,>=3.0.9 in /Users/mengtian_guo/opt/anaconda3/envs/nlp/lib/python3.8/site-packages (from spacy<3.5.0,>=3.4.0->en-core-web-sm==3.4.0) (3.0.10)\n",
      "Requirement already satisfied: langcodes<4.0.0,>=3.2.0 in /Users/mengtian_guo/opt/anaconda3/envs/nlp/lib/python3.8/site-packages (from spacy<3.5.0,>=3.4.0->en-core-web-sm==3.4.0) (3.3.0)\n",
      "Requirement already satisfied: requests<3.0.0,>=2.13.0 in /Users/mengtian_guo/opt/anaconda3/envs/nlp/lib/python3.8/site-packages (from spacy<3.5.0,>=3.4.0->en-core-web-sm==3.4.0) (2.24.0)\n",
      "Requirement already satisfied: wasabi<1.1.0,>=0.9.1 in /Users/mengtian_guo/opt/anaconda3/envs/nlp/lib/python3.8/site-packages (from spacy<3.5.0,>=3.4.0->en-core-web-sm==3.4.0) (0.10.1)\n",
      "Requirement already satisfied: typer<0.5.0,>=0.3.0 in /Users/mengtian_guo/opt/anaconda3/envs/nlp/lib/python3.8/site-packages (from spacy<3.5.0,>=3.4.0->en-core-web-sm==3.4.0) (0.4.2)\n",
      "Requirement already satisfied: catalogue<2.1.0,>=2.0.6 in /Users/mengtian_guo/opt/anaconda3/envs/nlp/lib/python3.8/site-packages (from spacy<3.5.0,>=3.4.0->en-core-web-sm==3.4.0) (2.0.8)\n",
      "Requirement already satisfied: preshed<3.1.0,>=3.0.2 in /Users/mengtian_guo/opt/anaconda3/envs/nlp/lib/python3.8/site-packages (from spacy<3.5.0,>=3.4.0->en-core-web-sm==3.4.0) (3.0.7)\n",
      "Requirement already satisfied: numpy>=1.15.0 in /Users/mengtian_guo/opt/anaconda3/envs/nlp/lib/python3.8/site-packages (from spacy<3.5.0,>=3.4.0->en-core-web-sm==3.4.0) (1.21.2)\n",
      "Requirement already satisfied: cymem<2.1.0,>=2.0.2 in /Users/mengtian_guo/opt/anaconda3/envs/nlp/lib/python3.8/site-packages (from spacy<3.5.0,>=3.4.0->en-core-web-sm==3.4.0) (2.0.6)\n",
      "Requirement already satisfied: pyparsing>=2.0.2 in /Users/mengtian_guo/opt/anaconda3/envs/nlp/lib/python3.8/site-packages (from packaging>=20.0->spacy<3.5.0,>=3.4.0->en-core-web-sm==3.4.0) (2.4.7)\n",
      "Requirement already satisfied: smart-open<6.0.0,>=5.2.1 in /Users/mengtian_guo/opt/anaconda3/envs/nlp/lib/python3.8/site-packages (from pathy>=0.3.5->spacy<3.5.0,>=3.4.0->en-core-web-sm==3.4.0) (5.2.1)\n",
      "Requirement already satisfied: typing-extensions>=3.7.4.3 in /Users/mengtian_guo/opt/anaconda3/envs/nlp/lib/python3.8/site-packages (from pydantic!=1.8,!=1.8.1,<1.10.0,>=1.7.4->spacy<3.5.0,>=3.4.0->en-core-web-sm==3.4.0) (3.10.0.0)\n",
      "Requirement already satisfied: chardet<4,>=3.0.2 in /Users/mengtian_guo/opt/anaconda3/envs/nlp/lib/python3.8/site-packages (from requests<3.0.0,>=2.13.0->spacy<3.5.0,>=3.4.0->en-core-web-sm==3.4.0) (3.0.4)\n",
      "Requirement already satisfied: idna<3,>=2.5 in /Users/mengtian_guo/opt/anaconda3/envs/nlp/lib/python3.8/site-packages (from requests<3.0.0,>=2.13.0->spacy<3.5.0,>=3.4.0->en-core-web-sm==3.4.0) (2.10)\n",
      "Requirement already satisfied: certifi>=2017.4.17 in /Users/mengtian_guo/opt/anaconda3/envs/nlp/lib/python3.8/site-packages (from requests<3.0.0,>=2.13.0->spacy<3.5.0,>=3.4.0->en-core-web-sm==3.4.0) (2021.10.8)\n",
      "Requirement already satisfied: urllib3!=1.25.0,!=1.25.1,<1.26,>=1.21.1 in /Users/mengtian_guo/opt/anaconda3/envs/nlp/lib/python3.8/site-packages (from requests<3.0.0,>=2.13.0->spacy<3.5.0,>=3.4.0->en-core-web-sm==3.4.0) (1.25.11)\n",
      "Requirement already satisfied: confection<1.0.0,>=0.0.1 in /Users/mengtian_guo/opt/anaconda3/envs/nlp/lib/python3.8/site-packages (from thinc<8.2.0,>=8.1.0->spacy<3.5.0,>=3.4.0->en-core-web-sm==3.4.0) (0.0.1)\n",
      "Requirement already satisfied: blis<0.10.0,>=0.7.8 in /Users/mengtian_guo/opt/anaconda3/envs/nlp/lib/python3.8/site-packages (from thinc<8.2.0,>=8.1.0->spacy<3.5.0,>=3.4.0->en-core-web-sm==3.4.0) (0.9.1)\n",
      "Requirement already satisfied: click<9.0.0,>=7.1.1 in /Users/mengtian_guo/opt/anaconda3/envs/nlp/lib/python3.8/site-packages (from typer<0.5.0,>=0.3.0->spacy<3.5.0,>=3.4.0->en-core-web-sm==3.4.0) (8.0.1)\n",
      "Requirement already satisfied: MarkupSafe>=2.0.0rc2 in /Users/mengtian_guo/opt/anaconda3/envs/nlp/lib/python3.8/site-packages (from jinja2->spacy<3.5.0,>=3.4.0->en-core-web-sm==3.4.0) (2.0.1)\n",
      "Installing collected packages: en-core-web-sm\n",
      "Successfully installed en-core-web-sm-3.4.0\n",
      "\u001b[38;5;2m✔ Download and installation successful\u001b[0m\n",
      "You can now load the package via spacy.load('en_core_web_sm')\n"
     ]
    }
   ],
   "source": [
    "!python -m spacy download en_core_web_sm"
   ]
  },
  {
   "cell_type": "code",
   "execution_count": 125,
   "id": "84928efc",
   "metadata": {
    "scrolled": false
   },
   "outputs": [
    {
     "name": "stdout",
     "output_type": "stream",
     "text": [
      "Found existing installation: neuralcoref 4.0\n",
      "Uninstalling neuralcoref-4.0:\n",
      "  Would remove:\n",
      "    /Users/mengtian_guo/opt/anaconda3/envs/nlp/lib/python3.8/site-packages/neuralcoref-4.0.dist-info/*\n",
      "    /Users/mengtian_guo/opt/anaconda3/envs/nlp/lib/python3.8/site-packages/neuralcoref/*\n",
      "Proceed (Y/n)? ^C\n",
      "\u001b[31mERROR: Operation cancelled by user\u001b[0m\u001b[31m\n",
      "\u001b[0m"
     ]
    }
   ],
   "source": [
    "!pip uninstall neuralcoref"
   ]
  },
  {
   "cell_type": "code",
   "execution_count": 38,
   "id": "dafe97d3",
   "metadata": {},
   "outputs": [
    {
     "name": "stdout",
     "output_type": "stream",
     "text": [
      "Requirement already satisfied: beautifulsoup4 in /Users/mengtian_guo/opt/anaconda3/envs/nlp/lib/python3.8/site-packages (4.9.3)\r\n",
      "Requirement already satisfied: soupsieve>1.2 in /Users/mengtian_guo/opt/anaconda3/envs/nlp/lib/python3.8/site-packages (from beautifulsoup4) (2.2.1)\r\n"
     ]
    }
   ],
   "source": [
    "!pip install beautifulsoup4"
   ]
  },
  {
   "cell_type": "code",
   "execution_count": 50,
   "id": "e1959073",
   "metadata": {},
   "outputs": [],
   "source": [
    "import numpy as np\n",
    "import pandas as pd\n",
    "from pdfminer.high_level import extract_text\n",
    "import re\n",
    "import spacy\n",
    "from spacy import displacy\n",
    "from bs4 import BeautifulSoup\n",
    "import json"
   ]
  },
  {
   "cell_type": "code",
   "execution_count": 3,
   "id": "1e993ca8",
   "metadata": {},
   "outputs": [
    {
     "data": {
      "text/plain": [
       "'3.4.1'"
      ]
     },
     "execution_count": 3,
     "metadata": {},
     "output_type": "execute_result"
    }
   ],
   "source": [
    "spacy.__version__"
   ]
  },
  {
   "cell_type": "code",
   "execution_count": 3,
   "id": "8c60dd98",
   "metadata": {
    "scrolled": true
   },
   "outputs": [
    {
     "name": "stderr",
     "output_type": "stream",
     "text": [
      "Xref table not zero-indexed. ID numbers for objects will be corrected.\n"
     ]
    }
   ],
   "source": [
    "filename = \"../data/exhibit_01.pdf\"\n",
    "all_text = []\n",
    "with open(filename,'rb') as pdffileobj:\n",
    "\n",
    "    #create reader variable that will read the pdffileobj\n",
    "    pdfreader = PyPDF2.PdfFileReader(pdffileobj)\n",
    "\n",
    "    #This will store the number of pages of this pdf file\n",
    "    x = pdfreader.numPages\n",
    "\n",
    "    for i in range(x):\n",
    "        #create a variable that will select the selected number of pages\n",
    "        pageobj = pdfreader.getPage(i)\n",
    "\n",
    "        #(x+1) because python indentation starts with 0.\n",
    "        #create text variable which will store all text datafrom pdf file\n",
    "        text = pageobj.extractText()\n",
    "        all_text.append(text)\n",
    "\n",
    "content = ' '.join(all_text)"
   ]
  },
  {
   "cell_type": "code",
   "execution_count": null,
   "id": "2273a26b",
   "metadata": {},
   "outputs": [],
   "source": [
    "content = content.split('*'*10)[1]"
   ]
  },
  {
   "cell_type": "code",
   "execution_count": 11,
   "id": "9870a7ad",
   "metadata": {
    "scrolled": false
   },
   "outputs": [],
   "source": [
    "res = re.split('PRESIDENT:|HALDEMAN:', content)\n",
    "res = [item.strip() for item in res if len(item.strip())>0]"
   ]
  },
  {
   "cell_type": "code",
   "execution_count": 13,
   "id": "03413a9e",
   "metadata": {},
   "outputs": [],
   "source": [
    "all_speakers = []\n",
    "for match in re.finditer(r\"(PRESIDENT)|(HALDEMAN)\", content):\n",
    "    all_speakers.append(match.group())"
   ]
  },
  {
   "cell_type": "code",
   "execution_count": 14,
   "id": "782e6deb",
   "metadata": {},
   "outputs": [
    {
     "data": {
      "text/plain": [
       "83"
      ]
     },
     "execution_count": 14,
     "metadata": {},
     "output_type": "execute_result"
    }
   ],
   "source": [
    "len(res)"
   ]
  },
  {
   "cell_type": "code",
   "execution_count": 15,
   "id": "24e285a7",
   "metadata": {},
   "outputs": [
    {
     "data": {
      "text/plain": [
       "83"
      ]
     },
     "execution_count": 15,
     "metadata": {},
     "output_type": "execute_result"
    }
   ],
   "source": [
    "len(all_speakers)"
   ]
  },
  {
   "cell_type": "code",
   "execution_count": 16,
   "id": "67e63b59",
   "metadata": {},
   "outputs": [
    {
     "data": {
      "text/plain": [
       "[\"okay -that's fine. Now, on the investi-gation, you know, the Democratic break-inthing, we're back to the-in the, the problemarea because the FBI is not under control,because Gray doesn't exactly know how tocontrol them, and they have, theirinvestigation is now leading into someproductive areas, because they've been ableto trace the money, not through the moneyitself, but through the bank, you know,sources - the banker himself.  And, and itgoes in some directions we don't want it togo.  Ah, also there have been some things,like an informant came in off the street tothe FBI in Miami, who was a photographer orhas a friend who is a photographer whodeveloped some films through this guy,Barker, and the films had pictures ofDemocratic National Committee letter headdocuments and things. So I guess, so it'sthings like that that are gonna, that arefiltering in. Mitchell came up withyesterday, and John Dean analyzed verycarefully last night and concludes, concursnow with Mitchell's recommendation that theonly way to solve this, and we're set upbeautifully to do it, ah, in that andthat...the only network that paid anyattention to it last night was NBC...theydid a massive story on the Cuban...\",\n",
       " \"That's right.\",\n",
       " 'thing.',\n",
       " 'Right.',\n",
       " 'That the way to handle this now is for us to have Walters call Pat Gray and just say,\"Stay the hell out of this...this is ah,business here we don\\'t want you to go anyfurther on it.\"  That\\'s not an unusualdevelopment,...',\n",
       " 'Um huh. JUNE 23, 1972 FROM 10:04 TO 11:39 AM 4',\n",
       " '...and, uh, that would take care of it.',\n",
       " \"What about Pat Gray, ah, you mean he doesn'twant to?\",\n",
       " \"Pat does want to.  He doesn't know how to,and he doesn't have, he doesn't have anybasis for doing it.  Given this, he willthen have the basis.  He'll call Mark Feltin, and the two of them ...and Mark Feltwants to cooperate because...\",\n",
       " 'Yeah.',\n",
       " \"he's ambitious...\",\n",
       " 'Yeah.',\n",
       " 'Ah, he\\'ll call him in and say, \"We\\'ve gotthe signal from across the river to, to putthe hold on this.\"  And that will fit ratherwell because the FBI agents who are workingthe case, at this point, feel that\\'s what itis.  This is CIA.',\n",
       " \"But they've traced the money to 'em.\",\n",
       " \"Well they have, they've traced to a name,but they haven't gotten to the guy yet.\",\n",
       " 'Would it be somebody here?',\n",
       " 'Ken Dahlberg.',\n",
       " 'Who the hell is Ken Dahlberg?',\n",
       " \"He's ah, he gave $25,000 in Minnesota andah, the check went directly in to this, tothis guy Barker.\",\n",
       " \"Maybe he's a ...bum. JUNE 23, 1972 FROM 10:04 TO 11:39 AM 5\",\n",
       " \"He didn't get this from the committeethough, from Stans.\",\n",
       " \"Yeah.  It is.  It is.  It's directlytraceable and there's some more through someTexas people in--that went to the Mexicanbank which they can also trace to theMexican bank...they'll get their namestoday. And pause)\",\n",
       " \"Well, I mean, ah, there's no way... I'm justthinking if they don't cooperate, what dothey say?  They they, they were approachedby the Cubans.  That's what Dahlberg has tosay, the Texans too.  Is that the idea?\",\n",
       " \"Well, if they will.  But then we're relyingon more and more people all the time.That's the problem.  And ah, they'll stop ifwe could, if we take this other step.\",\n",
       " 'All right.  Fine.',\n",
       " 'And, and they seem to feel the thing to dois get them to stop?',\n",
       " 'Right, fine.',\n",
       " \"They say the only way to do that is fromWhite House instructions.  And it's got tobe to Helms and, ah, what's his name...?Walters.\",\n",
       " 'Walters.',\n",
       " 'And the proposal would be that Ehrlichman(coughs) and I call them in',\n",
       " 'All right, fine.',\n",
       " 'and say, ah... JUNE 23, 1972 FROM 10:04 TO 11:39 AM 6',\n",
       " 'How do you call him in, I mean you just,well, we protected Helms from one hell of alot of things.',\n",
       " \"That's what Ehrlichman says.\",\n",
       " \"Of course, this is a, this is a Hunt, youwill-that will uncover a lot of things.  Youopen that scab there's a hell of a lot ofthings and that we just feel that it wouldbe very detrimental to have this thing goany further.  This involves these Cubans,Hunt, and a lot of hanky-panky that we havenothing to do with ourselves.  Well what thehell, did Mitchell know about this thing toany much of a degree?\",\n",
       " \"I think so.  I don 't think he knew thedetails, but I think he knew.\",\n",
       " \"He didn't know how it was going to behandled though, with Dahlberg and the Texansand so forth?  Well who was the asshole thatdid?  (Unintelligible) Is it Liddy?  Is thatthe fellow?  He must be a little nuts.\",\n",
       " 'He is.',\n",
       " \"I mean he just isn't well screwed on is he?Isn't that the problem?\",\n",
       " 'No, but he was under pressure, apparently,to get more information, and as he got morepressure, he pushed the people harder tomove harder on...',\n",
       " 'Pressure from Mitchell?',\n",
       " 'Apparently.',\n",
       " 'Oh, Mitchell, Mitchell was at the point thatyou made on this, that exactly what I needfrom you is on the--',\n",
       " 'Gemstone, yeah. JUNE 23, 1972 FROM 10:04 TO 11:39 AM 7',\n",
       " \"All right, fine, I understand it all.  Wewon't second-guess Mitchell and the rest.Thank God it wasn't Colson.\",\n",
       " 'The FBI interviewed Colson yesterday.  Theydetermined that would be a good thing to do.',\n",
       " 'Um hum.',\n",
       " 'Ah, to have him take a...',\n",
       " 'Um hum.',\n",
       " \"An interrogation, which he did, and that,the FBI guys working the case had concludedthat there were one or two possibilities,one, that this was a White House, they don'tthink that there is anything at the ElectionCommittee, they think it was either a WhiteHouse operation and they had some obscurereasons for it, non political,...\",\n",
       " 'Uh huh.',\n",
       " 'or it was a...',\n",
       " 'Cuban thing-',\n",
       " 'Cubans and the CIA.  And after theirinterrogation of, of...',\n",
       " 'Colson.',\n",
       " 'Colson, yesterday, they concluded it was notthe White House, but are now convinced it isa CIA thing, so the CIA turn off would...',\n",
       " \"Well, not sure of their analysis, I'm notgoing to get that involved. I'm(unintelligible).\",\n",
       " \"No, sir. We don't want you to. JUNE 23, 1972 FROM 10:04 to 11:39 AM 8 (repl. 10/28/74)\",\n",
       " 'You call them in.',\n",
       " \"Good.  Good deal! Play it tough.  That's theway they play it and that's the way we aregoing to play it.\",\n",
       " \"O.K.  We'll do it.\",\n",
       " \"Yeah, when I saw that news summary item, Iof course knew it was a bunch of crap, but Ithought ah, well it's good to have them offon this wild hair thing because when theystart bugging us, which they have, we'llknow our little boys will not know how tohandle it.  I hope they will though.  Younever know.  Maybe, you think about it.Good!\",\n",
       " 'Mosbacher has resigned.',\n",
       " 'Oh yeah?',\n",
       " 'As we expected he would.',\n",
       " 'Yeah.',\n",
       " \"He's going back to private life(unintelligible) Do you want to sign this orshould I send it to Rose?\",\n",
       " 'Ah, yeah (scratching noise)',\n",
       " 'Do you want to release it?',\n",
       " 'O.K.  Great.  Good job, Bob.',\n",
       " 'Kissinger?',\n",
       " \"Huh?  That's a joke.\",\n",
       " 'Is it?  Ah, O.K. JUNE 23, 1972 FROM 10:04 TO 11:39 AM 16',\n",
       " \"I don't know, maybe it isn't worth going outand talking (unintelligible) Maybe it is.\",\n",
       " \"Well, it's a close call.  Ah, Ehrlichmanthough you'd, you probably, he, he...\",\n",
       " 'What?',\n",
       " \"Well, he said you probably didn't need it.He didn't think you should, now at all.  Hesaid he felt fine doing it.\",\n",
       " 'He did?  The question, the point is, does hethink everybody is going to understand aboutthe bussing?',\n",
       " \"That's right.\",\n",
       " 'And, ah, well Lonzo says no.',\n",
       " 'Well, this, the fact is somewhere inbetween, I think, because I think that ismissing some...',\n",
       " 'Well, if the fact is somewhere in between,we better do it.',\n",
       " 'Yeah, I think Mitchell says, \"Hell yes.Anything we can hit on at anytime we get thechance...and we\\'ve got a reason for doingit... do it.\"']"
      ]
     },
     "execution_count": 16,
     "metadata": {},
     "output_type": "execute_result"
    }
   ],
   "source": [
    "res"
   ]
  },
  {
   "cell_type": "code",
   "execution_count": 22,
   "id": "356cee16",
   "metadata": {},
   "outputs": [
    {
     "name": "stdout",
     "output_type": "stream",
     "text": [
      "Democratic 61 71 NORP\n",
      "FBI 141 144 ORG\n",
      "Gray 174 178 ORG\n",
      "FBI 575 578 ORG\n",
      "Miami 582 587 GPE\n",
      "Barker 690 696 ORG\n",
      "National Committee 738 756 ORG\n",
      "Mitchell 864 872 PERSON\n",
      "withyesterday 881 894 DATE\n",
      "John Dean 900 909 PERSON\n",
      "last night 933 943 TIME\n",
      "Mitchell 975 983 PERSON\n",
      "last night 1139 1149 TIME\n",
      "NBC 1154 1157 ORG\n",
      "Cuban 1191 1196 NORP\n"
     ]
    }
   ],
   "source": [
    "sent = res[0]\n",
    "nlp = spacy.load(\"en_core_web_sm\")\n",
    "doc = nlp(sent)\n",
    "\n",
    "for ent in doc.ents:\n",
    "    print(ent.text, ent.start_char, ent.end_char, ent.label_)"
   ]
  },
  {
   "cell_type": "code",
   "execution_count": 4,
   "id": "9248f647",
   "metadata": {},
   "outputs": [
    {
     "ename": "NameError",
     "evalue": "name 'content' is not defined",
     "output_type": "error",
     "traceback": [
      "\u001b[0;31m---------------------------------------------------------------------------\u001b[0m",
      "\u001b[0;31mNameError\u001b[0m                                 Traceback (most recent call last)",
      "\u001b[0;32m/var/folders/_9/mdgsjzf55ylg9ll71zxc0k900000gn/T/ipykernel_8536/4132749299.py\u001b[0m in \u001b[0;36m<module>\u001b[0;34m\u001b[0m\n\u001b[0;32m----> 1\u001b[0;31m \u001b[0mres\u001b[0m \u001b[0;34m=\u001b[0m \u001b[0mre\u001b[0m\u001b[0;34m.\u001b[0m\u001b[0msplit\u001b[0m\u001b[0;34m(\u001b[0m\u001b[0;34m'PRESIDENT:|HALDEMAN:'\u001b[0m\u001b[0;34m,\u001b[0m \u001b[0mcontent\u001b[0m\u001b[0;34m)\u001b[0m\u001b[0;34m\u001b[0m\u001b[0;34m\u001b[0m\u001b[0m\n\u001b[0m\u001b[1;32m      2\u001b[0m \u001b[0mres\u001b[0m \u001b[0;34m=\u001b[0m \u001b[0;34m[\u001b[0m\u001b[0mitem\u001b[0m\u001b[0;34m.\u001b[0m\u001b[0mstrip\u001b[0m\u001b[0;34m(\u001b[0m\u001b[0;34m)\u001b[0m \u001b[0;32mfor\u001b[0m \u001b[0mitem\u001b[0m \u001b[0;32min\u001b[0m \u001b[0mres\u001b[0m \u001b[0;32mif\u001b[0m \u001b[0mlen\u001b[0m\u001b[0;34m(\u001b[0m\u001b[0mitem\u001b[0m\u001b[0;34m.\u001b[0m\u001b[0mstrip\u001b[0m\u001b[0;34m(\u001b[0m\u001b[0;34m)\u001b[0m\u001b[0;34m)\u001b[0m\u001b[0;34m>\u001b[0m\u001b[0;36m0\u001b[0m\u001b[0;34m]\u001b[0m\u001b[0;34m\u001b[0m\u001b[0;34m\u001b[0m\u001b[0m\n",
      "\u001b[0;31mNameError\u001b[0m: name 'content' is not defined"
     ]
    }
   ],
   "source": [
    "res = re.split('PRESIDENT:|HALDEMAN:', content)\n",
    "res = [item.strip() for item in res if len(item.strip())>0]"
   ]
  },
  {
   "cell_type": "code",
   "execution_count": 4,
   "id": "03fa510d",
   "metadata": {},
   "outputs": [],
   "source": [
    "filename = \"../data/exhibit_01.pdf\"\n",
    "text = extract_text(filename)\n",
    "content2 = text"
   ]
  },
  {
   "cell_type": "code",
   "execution_count": 25,
   "id": "bd461004",
   "metadata": {},
   "outputs": [],
   "source": [
    "splits = content2.split('\\n\\n')"
   ]
  },
  {
   "cell_type": "code",
   "execution_count": 26,
   "id": "6d29f74c",
   "metadata": {},
   "outputs": [
    {
     "data": {
      "text/plain": [
       "['TRANSCRIPT OF A RECORDING OF A\\nMEETING BETWEEN THE PRESIDENT\\nAND H.R. HALDEMAN IN THE OVAL\\nOFFICE ON JUNE 23, 1972 FROM\\n10:04 TO 11:39 AM',\n",
       " 'June 23, 1972 FROM 10:04 TO 11:39 AM',\n",
       " '3',\n",
       " '**********',\n",
       " 'HALDEMAN:',\n",
       " \"okay -that's fine. Now, on the investi-\\ngation, you know, the Democratic break-in\\nthing, we're back to the-in the, the problem\\narea because the FBI is not under control,\\nbecause Gray doesn't exactly know how to\\ncontrol them, and they have, their\\ninvestigation is now leading into some\\nproductive areas, because they've been able\\nto trace the money, not through the money\\nitself, but through the bank, you know,\\nsources - the banker himself.  And, and it\\ngoes in some directions we don't want it to\\ngo.  Ah, also there have been some things,\\nlike an informant came in off the street to\\nthe FBI in Miami, who was a photographer or\\nhas a friend who is a photographer who\\ndeveloped some films through this guy,\\nBarker, and the films had pictures of\\nDemocratic National Committee letter head\\ndocuments and things. So I guess, so it's\\nthings like that that are gonna, that are\\nfiltering in. Mitchell came up with\\nyesterday, and John Dean analyzed very\\ncarefully last night and concludes, concurs\\nnow with Mitchell's recommendation that the\\nonly way to solve this, and we're set up\\nbeautifully to do it, ah, in that and\\nthat...the only network that paid any\\nattention to it last night was NBC...they\\ndid a massive story on the Cuban...\",\n",
       " 'PRESIDENT:',\n",
       " \"That's right.\",\n",
       " 'HALDEMAN:',\n",
       " 'PRESIDENT:',\n",
       " 'thing.',\n",
       " 'Right.',\n",
       " 'HALDEMAN:',\n",
       " 'That the way to handle this now is for us to',\n",
       " '\\x0chave Walters call Pat Gray and just say,\\n\"Stay the hell out of this...this is ah,\\nbusiness here we don\\'t want you to go any\\nfurther on it.\"  That\\'s not an unusual\\ndevelopment,...',\n",
       " 'PRESIDENT:',\n",
       " 'Um huh.',\n",
       " '\\x0cJUNE 23, 1972 FROM 10:04 TO 11:39 AM',\n",
       " '4',\n",
       " 'HALDEMAN:',\n",
       " '...and, uh, that would take care of it.',\n",
       " 'PRESIDENT:',\n",
       " 'HALDEMAN:',\n",
       " \"What about Pat Gray, ah, you mean he doesn't\\nwant to?\",\n",
       " \"Pat does want to.  He doesn't know how to,\\nand he doesn't have, he doesn't have any\\nbasis for doing it.  Given this, he will\\nthen have the basis.  He'll call Mark Felt\\nin, and the two of them ...and Mark Felt\\nwants to cooperate because...\",\n",
       " 'PRESIDENT:',\n",
       " 'Yeah.',\n",
       " 'HALDEMAN:',\n",
       " \"he's ambitious...\",\n",
       " 'PRESIDENT:',\n",
       " 'Yeah.',\n",
       " 'HALDEMAN:',\n",
       " 'Ah, he\\'ll call him in and say, \"We\\'ve got\\nthe signal from across the river to, to put\\nthe hold on this.\"  And that will fit rather\\nwell because the FBI agents who are working\\nthe case, at this point, feel that\\'s what it\\nis.  This is CIA.',\n",
       " 'PRESIDENT:',\n",
       " \"But they've traced the money to 'em.\",\n",
       " 'HALDEMAN:',\n",
       " \"Well they have, they've traced to a name,\\nbut they haven't gotten to the guy yet.\",\n",
       " 'PRESIDENT:',\n",
       " 'Would it be somebody here?',\n",
       " 'HALDEMAN:',\n",
       " 'Ken Dahlberg.',\n",
       " 'PRESIDENT:',\n",
       " 'Who the hell is Ken Dahlberg?',\n",
       " 'HALDEMAN:',\n",
       " \"He's ah, he gave $25,000 in Minnesota and\\nah, the check went directly in to this, to\\nthis guy Barker.\",\n",
       " 'PRESIDENT:',\n",
       " \"Maybe he's a ...bum.\",\n",
       " '\\x0cJUNE 23, 1972 FROM 10:04 TO 11:39 AM',\n",
       " '5',\n",
       " 'PRESIDENT:',\n",
       " 'HALDEMAN:',\n",
       " 'PRESIDENT:',\n",
       " 'HALDEMAN:',\n",
       " \"He didn't get this from the committee\\nthough, from Stans.\",\n",
       " \"Yeah.  It is.  It is.  It's directly\\ntraceable and there's some more through some\\nTexas people in--that went to the Mexican\\nbank which they can also trace to the\\nMexican bank...they'll get their names\\ntoday. And pause)\",\n",
       " \"Well, I mean, ah, there's no way... I'm just\\nthinking if they don't cooperate, what do\\nthey say?  They they, they were approached\\nby the Cubans.  That's what Dahlberg has to\\nsay, the Texans too.  Is that the idea?\",\n",
       " \"Well, if they will.  But then we're relying\\non more and more people all the time.\\nThat's the problem.  And ah, they'll stop if\\nwe could, if we take this other step.\",\n",
       " 'PRESIDENT:',\n",
       " 'All right.  Fine.',\n",
       " 'HALDEMAN:',\n",
       " 'And, and they seem to feel the thing to do\\nis get them to stop?',\n",
       " 'PRESIDENT:',\n",
       " 'Right, fine.',\n",
       " 'HALDEMAN:',\n",
       " \"They say the only way to do that is from\\nWhite House instructions.  And it's got to\\nbe to Helms and, ah, what's his name...?\\nWalters.\",\n",
       " 'PRESIDENT:',\n",
       " 'Walters.',\n",
       " 'HALDEMAN:',\n",
       " 'And the proposal would be that Ehrlichman\\n(coughs) and I call them in',\n",
       " 'PRESIDENT:',\n",
       " 'All right, fine.',\n",
       " 'HALDEMAN:',\n",
       " 'and say, ah...',\n",
       " '\\x0cJUNE 23, 1972 FROM 10:04 TO 11:39 AM',\n",
       " '6',\n",
       " 'PRESIDENT:',\n",
       " 'How do you call him in, I mean you just,\\nwell, we protected Helms from one hell of a\\nlot of things.',\n",
       " 'HALDEMAN:',\n",
       " \"That's what Ehrlichman says.\",\n",
       " 'PRESIDENT:',\n",
       " 'HALDEMAN:',\n",
       " 'PRESIDENT:',\n",
       " \"Of course, this is a, this is a Hunt, you\\nwill-that will uncover a lot of things.  You\\nopen that scab there's a hell of a lot of\\nthings and that we just feel that it would\\nbe very detrimental to have this thing go\\nany further.  This involves these Cubans,\\nHunt, and a lot of hanky-panky that we have\\nnothing to do with ourselves.  Well what the\\nhell, did Mitchell know about this thing to\\nany much of a degree?\",\n",
       " \"I think so.  I don 't think he knew the\\ndetails, but I think he knew.\",\n",
       " \"He didn't know how it was going to be\\nhandled though, with Dahlberg and the Texans\\nand so forth?  Well who was the asshole that\\ndid?  (Unintelligible) Is it Liddy?  Is that\\nthe fellow?  He must be a little nuts.\",\n",
       " 'HALDEMAN:',\n",
       " 'He is.',\n",
       " 'PRESIDENT:',\n",
       " 'HALDEMAN:',\n",
       " \"I mean he just isn't well screwed on is he?\\nIsn't that the problem?\",\n",
       " 'No, but he was under pressure, apparently,\\nto get more information, and as he got more\\npressure, he pushed the people harder to\\nmove harder on...',\n",
       " 'PRESIDENT:',\n",
       " 'Pressure from Mitchell?',\n",
       " 'HALDEMAN:',\n",
       " 'Apparently.',\n",
       " 'PRESIDENT:',\n",
       " 'Oh, Mitchell, Mitchell was at the point that\\nyou made on this, that exactly what I need\\nfrom you is on the--',\n",
       " 'HALDEMAN:',\n",
       " 'Gemstone, yeah.',\n",
       " '\\x0cJUNE 23, 1972 FROM 10:04 TO 11:39 AM',\n",
       " '7',\n",
       " 'PRESIDENT:',\n",
       " \"All right, fine, I understand it all.  We\\nwon't second-guess Mitchell and the rest.\\nThank God it wasn't Colson.\",\n",
       " 'HALDEMAN:',\n",
       " 'The FBI interviewed Colson yesterday.  They\\ndetermined that would be a good thing to do.',\n",
       " 'PRESIDENT:',\n",
       " 'Um hum.',\n",
       " 'HALDEMAN:',\n",
       " 'Ah, to have him take a...',\n",
       " 'PRESIDENT:',\n",
       " 'Um hum.',\n",
       " 'HALDEMAN:',\n",
       " \"An interrogation, which he did, and that,\\nthe FBI guys working the case had concluded\\nthat there were one or two possibilities,\\none, that this was a White House, they don't\\nthink that there is anything at the Election\\nCommittee, they think it was either a White\\nHouse operation and they had some obscure\\nreasons for it, non political,...\",\n",
       " 'PRESIDENT:',\n",
       " 'Uh huh.',\n",
       " 'HALDEMAN:',\n",
       " 'or it was a...',\n",
       " 'PRESIDENT:',\n",
       " 'Cuban thing-',\n",
       " 'HALDEMAN:',\n",
       " 'Cubans and the CIA.  And after their\\ninterrogation of, of...',\n",
       " 'PRESIDENT:',\n",
       " 'Colson.',\n",
       " 'HALDEMAN:',\n",
       " 'PRESIDENT:',\n",
       " 'Colson, yesterday, they concluded it was not\\nthe White House, but are now convinced it is\\na CIA thing, so the CIA turn off would...',\n",
       " \"Well, not sure of their analysis, I'm not\\ngoing to get that involved. I'm\\n(unintelligible).\",\n",
       " 'HALDEMAN:',\n",
       " \"No, sir. We don't want you to.\",\n",
       " '\\x0cJUNE 23, 1972 FROM 10:04 to 11:39 AM',\n",
       " '8 (repl. 10/28/74)',\n",
       " 'PRESIDENT:',\n",
       " 'You call them in.',\n",
       " 'PRESIDENT:',\n",
       " \"Good.  Good deal! Play it tough.  That's the\\nway they play it and that's the way we are\\ngoing to play it.\",\n",
       " 'HALDEMAN:',\n",
       " \"O.K.  We'll do it.\",\n",
       " 'PRESIDENT:',\n",
       " \"Yeah, when I saw that news summary item, I\\nof course knew it was a bunch of crap, but I\\nthought ah, well it's good to have them off\\non this wild hair thing because when they\\nstart bugging us, which they have, we'll\\nknow our little boys will not know how to\\nhandle it.  I hope they will though.  You\\nnever know.  Maybe, you think about it.\\nGood!\",\n",
       " 'HALDEMAN:',\n",
       " 'Mosbacher has resigned.',\n",
       " 'PRESIDENT:',\n",
       " 'Oh yeah?',\n",
       " 'HALDEMAN:',\n",
       " 'As we expected he would.',\n",
       " 'PRESIDENT:',\n",
       " 'Yeah.',\n",
       " 'HALDEMAN:',\n",
       " \"He's going back to private life\\n(unintelligible) Do you want to sign this or\\nshould I send it to Rose?\",\n",
       " 'PRESIDENT:',\n",
       " 'Ah, yeah (scratching noise)',\n",
       " 'HALDEMAN:',\n",
       " 'Do you want to release it?',\n",
       " 'PRESIDENT:',\n",
       " 'O.K.  Great.  Good job, Bob.',\n",
       " 'HALDEMAN:',\n",
       " 'Kissinger?',\n",
       " 'PRESIDENT:',\n",
       " \"Huh?  That's a joke.\",\n",
       " 'HALDEMAN:',\n",
       " 'Is it?  Ah, O.K.',\n",
       " '\\x0cJUNE 23, 1972 FROM 10:04 TO 11:39 AM',\n",
       " '16',\n",
       " 'PRESIDENT:',\n",
       " 'HALDEMAN:',\n",
       " \"I don't know, maybe it isn't worth going out\\nand talking (unintelligible) Maybe it is.\",\n",
       " \"Well, it's a close call.  Ah, Ehrlichman\\nthough you'd, you probably, he, he...\",\n",
       " 'PRESIDENT:',\n",
       " 'What?',\n",
       " 'HALDEMAN:',\n",
       " 'PRESIDENT:',\n",
       " \"Well, he said you probably didn't need it.\\nHe didn't think you should, now at all.  He\\nsaid he felt fine doing it.\",\n",
       " 'He did?  The question, the point is, does he\\nthink everybody is going to understand about\\nthe bussing?',\n",
       " 'HALDEMAN:',\n",
       " \"That's right.\",\n",
       " 'PRESIDENT:',\n",
       " 'And, ah, well Lonzo says no.',\n",
       " 'HALDEMAN:',\n",
       " 'PRESIDENT:',\n",
       " 'HALDEMAN:',\n",
       " '**********',\n",
       " 'PRESIDENT:',\n",
       " 'Well, this, the fact is somewhere in\\nbetween, I think, because I think that is\\nmissing some...',\n",
       " 'Well, if the fact is somewhere in between,\\nwe better do it.',\n",
       " 'Yeah, I think Mitchell says, \"Hell yes.\\nAnything we can hit on at anytime we get the\\nchance...and we\\'ve got a reason for doing\\nit... do it.\"',\n",
       " 'When you get in these people when you...get\\nthese people in, say: \"Look, the problem is\\nthat this will open the whole, the whole Bay\\nof Pigs thing, and the President just feels\\nthat\" ah, without going into the details...\\ndon\\'t, don\\'t lie to them to the extent to\\nsay there is no involvement, but just say\\nthis is sort of a comedy of errors, bizarre,\\nwithout getting into it, \"the President\\nbelieves that it is going to open the whole\\nBay of Pigs thing up again.  And, ah because\\nthese people are plugging for, for keeps and\\nthat they should call the FBI in and say\\nthat we wish for the country, don\\'t go any\\nfurther into this case\", period!',\n",
       " '\\x0cJUNE 23, 1972 FROM 10 04 TO 11:39 AM',\n",
       " '17',\n",
       " 'HALDEMAN:',\n",
       " 'OK',\n",
       " 'PRESIDENT:',\n",
       " 'HALDEMAN:',\n",
       " \"That's the way to put it, do it straight\\n(Unintelligible)\",\n",
       " 'Get more done for our cause by the\\nopposition than by us at this point.',\n",
       " 'PRESIDENT:',\n",
       " 'You think so?',\n",
       " 'HALDEMAN:',\n",
       " 'I think so, yeah.',\n",
       " '**********',\n",
       " 'PRESIDENT:',\n",
       " 'HALDEMAN:',\n",
       " 'PRESIDENT:',\n",
       " 'HALDEMAN:',\n",
       " 'Still (unintelligible) moves\\n(unintelligible)very close election\\n(unintelligible) he keeps saying if he moves\\na little-',\n",
       " 'They\\'re all... that\\'s the whole thing.  The\\nWashington Post said it in it\\'s lead\\neditorial today.  Another \"McGovern\\'s got to\\nchange his position,\" and that that would be\\na good thing, that\\'s constructive.  Ah, the\\nwhite wash for change.',\n",
       " \"Post prints the news so they'll say that is\\nperfectly all right.\",\n",
       " \"Cause then they are saying...on the other\\nhand... that maybe we're not so smart.  We\\nhave to admire the progress he's made on the\\nbasis of the position he's taken and maybe\\nhe's right and we're wrong.\",\n",
       " 'PRESIDENT:',\n",
       " 'To be very (unintelligible) (laughs).',\n",
       " 'HALDEMAN:',\n",
       " 'Sitting in Miami played into our hand a\\nlittle bit.',\n",
       " 'PRESIDENT:',\n",
       " 'No.',\n",
       " 'HALDEMAN:',\n",
       " 'They, ah eliminated their law prohibiting\\nmale homosexuals from wearing female\\nclothing, now the boys can all put on their\\ndresses... so the gay lib is going to turn\\nout 6,000 fags to (laughs).  I hope they\\n(unintelligible) them.',\n",
       " 'PRESIDENT:',\n",
       " 'How did they(unintelligible)',\n",
       " '\\x0c']"
      ]
     },
     "execution_count": 26,
     "metadata": {},
     "output_type": "execute_result"
    }
   ],
   "source": [
    "splits"
   ]
  },
  {
   "cell_type": "code",
   "execution_count": 27,
   "id": "0c6c3bbd",
   "metadata": {},
   "outputs": [],
   "source": [
    "splits = splits[1:]\n",
    "speak_content = []\n",
    "all_speakers = []\n",
    "\n",
    "i = 0\n",
    "while i < len(splits):\n",
    "    part = splits[i]\n",
    "    if part == 'HALDEMAN:' or part == 'PRESIDENT:':\n",
    "        all_speakers.append(part[:-1])\n",
    "        i += 1\n",
    "        continue\n",
    "    if part == '' or part == '*'*10:\n",
    "        i += 1\n",
    "        continue\n",
    "    if part[:len('JUNE 23, 1972')] == 'JUNE 23, 1972':\n",
    "        i += 2\n",
    "        continue\n",
    "    if len(part) != len(part.replace('\\x0c', '')):\n",
    "        part = part.replace('\\x0c', '')\n",
    "        if part[:len('JUNE 23, 1972')] == 'JUNE 23, 1972':\n",
    "            i += 2\n",
    "            continue\n",
    "        else:\n",
    "            speak_content[-1] = speak_content[-1] + '\\n' + part\n",
    "            i += 1\n",
    "            continue\n",
    "    speak_content.append(part)\n",
    "    i += 1"
   ]
  },
  {
   "cell_type": "code",
   "execution_count": 31,
   "id": "826053d5",
   "metadata": {},
   "outputs": [
    {
     "data": {
      "text/plain": [
       "98"
      ]
     },
     "execution_count": 31,
     "metadata": {},
     "output_type": "execute_result"
    }
   ],
   "source": [
    "len(speak_content)"
   ]
  },
  {
   "cell_type": "code",
   "execution_count": 30,
   "id": "64c1e1bd",
   "metadata": {},
   "outputs": [],
   "source": [
    "speak_content = speak_content[2:]"
   ]
  },
  {
   "cell_type": "code",
   "execution_count": 24,
   "id": "4ac076f5",
   "metadata": {},
   "outputs": [
    {
     "data": {
      "text/plain": [
       "98"
      ]
     },
     "execution_count": 24,
     "metadata": {},
     "output_type": "execute_result"
    }
   ],
   "source": [
    "len(all_speakers)"
   ]
  },
  {
   "cell_type": "code",
   "execution_count": 10,
   "id": "ec17b803",
   "metadata": {},
   "outputs": [
    {
     "name": "stdout",
     "output_type": "stream",
     "text": [
      "37\n",
      "36\n"
     ]
    }
   ],
   "source": [
    "part = '\\x0cJUNE 23, 1972 FROM 10:04 TO 11:39 AM'\n",
    "print(len(part))\n",
    "part = part.replace('\\x0c', '')\n",
    "print(len(part))"
   ]
  },
  {
   "cell_type": "code",
   "execution_count": 14,
   "id": "d8a77d68",
   "metadata": {},
   "outputs": [
    {
     "data": {
      "text/plain": [
       "'UNE 23, 1972 FROM 10:04 TO 11:39 AM'"
      ]
     },
     "execution_count": 14,
     "metadata": {},
     "output_type": "execute_result"
    }
   ],
   "source": [
    "part[1:]"
   ]
  },
  {
   "cell_type": "code",
   "execution_count": null,
   "id": "e6edd33a",
   "metadata": {},
   "outputs": [],
   "source": [
    "all_speakers = []\n",
    "for match in re.finditer(r\"(PRESIDENT)|(HALDEMAN)\", content2):\n",
    "    all_speakers.append(match.group())"
   ]
  },
  {
   "cell_type": "code",
   "execution_count": 7,
   "id": "0811338c",
   "metadata": {},
   "outputs": [
    {
     "data": {
      "text/plain": [
       "['TRANSCRIPT OF A RECORDING OF A\\nMEETING BETWEEN THE PRESIDENT\\nAND H.R. HALDEMAN IN THE OVAL\\nOFFICE ON JUNE 23, 1972 FROM\\n10:04 TO 11:39 AM',\n",
       " 'June 23, 1972 FROM 10:04 TO 11:39 AM',\n",
       " '3',\n",
       " '**********',\n",
       " \"okay -that's fine. Now, on the investi-\\ngation, you know, the Democratic break-in\\nthing, we're back to the-in the, the problem\\narea because the FBI is not under control,\\nbecause Gray doesn't exactly know how to\\ncontrol them, and they have, their\\ninvestigation is now leading into some\\nproductive areas, because they've been able\\nto trace the money, not through the money\\nitself, but through the bank, you know,\\nsources - the banker himself.  And, and it\\ngoes in some directions we don't want it to\\ngo.  Ah, also there have been some things,\\nlike an informant came in off the street to\\nthe FBI in Miami, who was a photographer or\\nhas a friend who is a photographer who\\ndeveloped some films through this guy,\\nBarker, and the films had pictures of\\nDemocratic National Committee letter head\\ndocuments and things. So I guess, so it's\\nthings like that that are gonna, that are\\nfiltering in. Mitchell came up with\\nyesterday, and John Dean analyzed very\\ncarefully last night and concludes, concurs\\nnow with Mitchell's recommendation that the\\nonly way to solve this, and we're set up\\nbeautifully to do it, ah, in that and\\nthat...the only network that paid any\\nattention to it last night was NBC...they\\ndid a massive story on the Cuban...\",\n",
       " \"That's right.\",\n",
       " 'thing.',\n",
       " 'Right.',\n",
       " 'That the way to handle this now is for us to',\n",
       " 'have Walters call Pat Gray and just say,\\n\"Stay the hell out of this...this is ah,\\nbusiness here we don\\'t want you to go any\\nfurther on it.\"  That\\'s not an unusual\\ndevelopment,...',\n",
       " 'Um huh.',\n",
       " 'JUNE 23, 1972 FROM 10:04 TO 11:39 AM',\n",
       " '4',\n",
       " '...and, uh, that would take care of it.',\n",
       " \"What about Pat Gray, ah, you mean he doesn't\\nwant to?\",\n",
       " \"Pat does want to.  He doesn't know how to,\\nand he doesn't have, he doesn't have any\\nbasis for doing it.  Given this, he will\\nthen have the basis.  He'll call Mark Felt\\nin, and the two of them ...and Mark Felt\\nwants to cooperate because...\",\n",
       " 'Yeah.',\n",
       " \"he's ambitious...\",\n",
       " 'Yeah.',\n",
       " 'Ah, he\\'ll call him in and say, \"We\\'ve got\\nthe signal from across the river to, to put\\nthe hold on this.\"  And that will fit rather\\nwell because the FBI agents who are working\\nthe case, at this point, feel that\\'s what it\\nis.  This is CIA.',\n",
       " \"But they've traced the money to 'em.\",\n",
       " \"Well they have, they've traced to a name,\\nbut they haven't gotten to the guy yet.\",\n",
       " 'Would it be somebody here?',\n",
       " 'Ken Dahlberg.',\n",
       " 'Who the hell is Ken Dahlberg?',\n",
       " \"He's ah, he gave $25,000 in Minnesota and\\nah, the check went directly in to this, to\\nthis guy Barker.\",\n",
       " \"Maybe he's a ...bum.\",\n",
       " 'JUNE 23, 1972 FROM 10:04 TO 11:39 AM',\n",
       " '5',\n",
       " \"He didn't get this from the committee\\nthough, from Stans.\",\n",
       " \"Yeah.  It is.  It is.  It's directly\\ntraceable and there's some more through some\\nTexas people in--that went to the Mexican\\nbank which they can also trace to the\\nMexican bank...they'll get their names\\ntoday. And pause)\",\n",
       " \"Well, I mean, ah, there's no way... I'm just\\nthinking if they don't cooperate, what do\\nthey say?  They they, they were approached\\nby the Cubans.  That's what Dahlberg has to\\nsay, the Texans too.  Is that the idea?\",\n",
       " \"Well, if they will.  But then we're relying\\non more and more people all the time.\\nThat's the problem.  And ah, they'll stop if\\nwe could, if we take this other step.\",\n",
       " 'All right.  Fine.',\n",
       " 'And, and they seem to feel the thing to do\\nis get them to stop?',\n",
       " 'Right, fine.',\n",
       " \"They say the only way to do that is from\\nWhite House instructions.  And it's got to\\nbe to Helms and, ah, what's his name...?\\nWalters.\",\n",
       " 'Walters.',\n",
       " 'And the proposal would be that Ehrlichman\\n(coughs) and I call them in',\n",
       " 'All right, fine.',\n",
       " 'and say, ah...',\n",
       " 'JUNE 23, 1972 FROM 10:04 TO 11:39 AM',\n",
       " '6',\n",
       " 'How do you call him in, I mean you just,\\nwell, we protected Helms from one hell of a\\nlot of things.',\n",
       " \"That's what Ehrlichman says.\",\n",
       " \"Of course, this is a, this is a Hunt, you\\nwill-that will uncover a lot of things.  You\\nopen that scab there's a hell of a lot of\\nthings and that we just feel that it would\\nbe very detrimental to have this thing go\\nany further.  This involves these Cubans,\\nHunt, and a lot of hanky-panky that we have\\nnothing to do with ourselves.  Well what the\\nhell, did Mitchell know about this thing to\\nany much of a degree?\",\n",
       " \"I think so.  I don 't think he knew the\\ndetails, but I think he knew.\",\n",
       " \"He didn't know how it was going to be\\nhandled though, with Dahlberg and the Texans\\nand so forth?  Well who was the asshole that\\ndid?  (Unintelligible) Is it Liddy?  Is that\\nthe fellow?  He must be a little nuts.\",\n",
       " 'He is.',\n",
       " \"I mean he just isn't well screwed on is he?\\nIsn't that the problem?\",\n",
       " 'No, but he was under pressure, apparently,\\nto get more information, and as he got more\\npressure, he pushed the people harder to\\nmove harder on...',\n",
       " 'Pressure from Mitchell?',\n",
       " 'Apparently.',\n",
       " 'Oh, Mitchell, Mitchell was at the point that\\nyou made on this, that exactly what I need\\nfrom you is on the--',\n",
       " 'Gemstone, yeah.',\n",
       " 'JUNE 23, 1972 FROM 10:04 TO 11:39 AM',\n",
       " '7',\n",
       " \"All right, fine, I understand it all.  We\\nwon't second-guess Mitchell and the rest.\\nThank God it wasn't Colson.\",\n",
       " 'The FBI interviewed Colson yesterday.  They\\ndetermined that would be a good thing to do.',\n",
       " 'Um hum.',\n",
       " 'Ah, to have him take a...',\n",
       " 'Um hum.',\n",
       " \"An interrogation, which he did, and that,\\nthe FBI guys working the case had concluded\\nthat there were one or two possibilities,\\none, that this was a White House, they don't\\nthink that there is anything at the Election\\nCommittee, they think it was either a White\\nHouse operation and they had some obscure\\nreasons for it, non political,...\",\n",
       " 'Uh huh.',\n",
       " 'or it was a...',\n",
       " 'Cuban thing-',\n",
       " 'Cubans and the CIA.  And after their\\ninterrogation of, of...',\n",
       " 'Colson.',\n",
       " 'Colson, yesterday, they concluded it was not\\nthe White House, but are now convinced it is\\na CIA thing, so the CIA turn off would...',\n",
       " \"Well, not sure of their analysis, I'm not\\ngoing to get that involved. I'm\\n(unintelligible).\",\n",
       " \"No, sir. We don't want you to.\",\n",
       " 'JUNE 23, 1972 FROM 10:04 to 11:39 AM',\n",
       " '8 (repl. 10/28/74)',\n",
       " 'You call them in.',\n",
       " \"Good.  Good deal! Play it tough.  That's the\\nway they play it and that's the way we are\\ngoing to play it.\",\n",
       " \"O.K.  We'll do it.\",\n",
       " \"Yeah, when I saw that news summary item, I\\nof course knew it was a bunch of crap, but I\\nthought ah, well it's good to have them off\\non this wild hair thing because when they\\nstart bugging us, which they have, we'll\\nknow our little boys will not know how to\\nhandle it.  I hope they will though.  You\\nnever know.  Maybe, you think about it.\\nGood!\",\n",
       " 'Mosbacher has resigned.',\n",
       " 'Oh yeah?',\n",
       " 'As we expected he would.',\n",
       " 'Yeah.',\n",
       " \"He's going back to private life\\n(unintelligible) Do you want to sign this or\\nshould I send it to Rose?\",\n",
       " 'Ah, yeah (scratching noise)',\n",
       " 'Do you want to release it?',\n",
       " 'O.K.  Great.  Good job, Bob.',\n",
       " 'Kissinger?',\n",
       " \"Huh?  That's a joke.\",\n",
       " 'Is it?  Ah, O.K.',\n",
       " 'JUNE 23, 1972 FROM 10:04 TO 11:39 AM',\n",
       " '16',\n",
       " \"I don't know, maybe it isn't worth going out\\nand talking (unintelligible) Maybe it is.\",\n",
       " \"Well, it's a close call.  Ah, Ehrlichman\\nthough you'd, you probably, he, he...\",\n",
       " 'What?',\n",
       " \"Well, he said you probably didn't need it.\\nHe didn't think you should, now at all.  He\\nsaid he felt fine doing it.\",\n",
       " 'He did?  The question, the point is, does he\\nthink everybody is going to understand about\\nthe bussing?',\n",
       " \"That's right.\",\n",
       " 'And, ah, well Lonzo says no.',\n",
       " '**********',\n",
       " 'Well, this, the fact is somewhere in\\nbetween, I think, because I think that is\\nmissing some...',\n",
       " 'Well, if the fact is somewhere in between,\\nwe better do it.',\n",
       " 'Yeah, I think Mitchell says, \"Hell yes.\\nAnything we can hit on at anytime we get the\\nchance...and we\\'ve got a reason for doing\\nit... do it.\"',\n",
       " 'When you get in these people when you...get\\nthese people in, say: \"Look, the problem is\\nthat this will open the whole, the whole Bay\\nof Pigs thing, and the President just feels\\nthat\" ah, without going into the details...\\ndon\\'t, don\\'t lie to them to the extent to\\nsay there is no involvement, but just say\\nthis is sort of a comedy of errors, bizarre,\\nwithout getting into it, \"the President\\nbelieves that it is going to open the whole\\nBay of Pigs thing up again.  And, ah because\\nthese people are plugging for, for keeps and\\nthat they should call the FBI in and say\\nthat we wish for the country, don\\'t go any\\nfurther into this case\", period!',\n",
       " 'JUNE 23, 1972 FROM 10 04 TO 11:39 AM',\n",
       " '17',\n",
       " 'OK',\n",
       " \"That's the way to put it, do it straight\\n(Unintelligible)\",\n",
       " 'Get more done for our cause by the\\nopposition than by us at this point.',\n",
       " 'You think so?',\n",
       " 'I think so, yeah.',\n",
       " '**********',\n",
       " 'Still (unintelligible) moves\\n(unintelligible)very close election\\n(unintelligible) he keeps saying if he moves\\na little-',\n",
       " 'They\\'re all... that\\'s the whole thing.  The\\nWashington Post said it in it\\'s lead\\neditorial today.  Another \"McGovern\\'s got to\\nchange his position,\" and that that would be\\na good thing, that\\'s constructive.  Ah, the\\nwhite wash for change.',\n",
       " \"Post prints the news so they'll say that is\\nperfectly all right.\",\n",
       " \"Cause then they are saying...on the other\\nhand... that maybe we're not so smart.  We\\nhave to admire the progress he's made on the\\nbasis of the position he's taken and maybe\\nhe's right and we're wrong.\",\n",
       " 'To be very (unintelligible) (laughs).',\n",
       " 'Sitting in Miami played into our hand a\\nlittle bit.',\n",
       " 'No.',\n",
       " 'They, ah eliminated their law prohibiting\\nmale homosexuals from wearing female\\nclothing, now the boys can all put on their\\ndresses... so the gay lib is going to turn\\nout 6,000 fags to (laughs).  I hope they\\n(unintelligible) them.',\n",
       " 'How did they(unintelligible)',\n",
       " '']"
      ]
     },
     "execution_count": 7,
     "metadata": {},
     "output_type": "execute_result"
    }
   ],
   "source": [
    "speak_content"
   ]
  },
  {
   "cell_type": "code",
   "execution_count": 32,
   "id": "825fa919",
   "metadata": {},
   "outputs": [],
   "source": [
    "nlp = spacy.load(\"en_core_web_sm\")"
   ]
  },
  {
   "cell_type": "code",
   "execution_count": 35,
   "id": "65850ba9",
   "metadata": {},
   "outputs": [],
   "source": [
    "def get_entities(sent):\n",
    "    doc = nlp(sent)\n",
    "#     print(sent)\n",
    "    entities = []\n",
    "    for ent in doc.ents:\n",
    "#         print(ent.text, ent.start_char, ent.end_char, ent.label_)\n",
    "        entities.append([ent.text, ent.label_, ent.start_char, ent.end_char])\n",
    "    return entities\n",
    "#     displacy.serve(doc, style=\"ent\")"
   ]
  },
  {
   "cell_type": "code",
   "execution_count": 36,
   "id": "53db575a",
   "metadata": {},
   "outputs": [
    {
     "data": {
      "text/plain": [
       "[['Democratic', 'NORP', 62, 72],\n",
       " ['FBI', 'ORG', 144, 147],\n",
       " ['Gray', 'ORG', 178, 182],\n",
       " ['FBI', 'ORG', 589, 592],\n",
       " ['Miami', 'GPE', 596, 601],\n",
       " ['Barker', 'ORG', 707, 713],\n",
       " ['Democratic National Committee', 'ORG', 745, 774],\n",
       " ['Mitchell', 'PERSON', 885, 893],\n",
       " ['yesterday', 'DATE', 907, 916],\n",
       " ['John Dean', 'PERSON', 922, 931],\n",
       " ['last night', 'TIME', 956, 966],\n",
       " ['Mitchell', 'ORG', 999, 1007],\n",
       " ['last night', 'TIME', 1167, 1177],\n",
       " ['NBC', 'ORG', 1182, 1185],\n",
       " ['Cuban', 'NORP', 1220, 1225]]"
      ]
     },
     "execution_count": 36,
     "metadata": {},
     "output_type": "execute_result"
    }
   ],
   "source": [
    "get_entities(speak_content[0])"
   ]
  },
  {
   "cell_type": "code",
   "execution_count": 37,
   "id": "b6a40ce4",
   "metadata": {},
   "outputs": [
    {
     "data": {
      "text/plain": [
       "'Democratic'"
      ]
     },
     "execution_count": 37,
     "metadata": {},
     "output_type": "execute_result"
    }
   ],
   "source": [
    "speak_content[0][62:72]"
   ]
  },
  {
   "cell_type": "code",
   "execution_count": 52,
   "id": "5e72794a",
   "metadata": {},
   "outputs": [],
   "source": [
    "def tagging(content):\n",
    "    soup = BeautifulSoup('<p></p>','html.parser')\n",
    "    entities = get_entities(content)\n",
    "    if len(entities) == 0:\n",
    "        soup.p.append(content)\n",
    "    else:\n",
    "        for i, entity in enumerate(entities):\n",
    "            if i == 0:\n",
    "                soup.p.append(content[0:entity[2]])\n",
    "            else:\n",
    "                soup.p.append(content[entities[i-1][3]:entity[2]])\n",
    "            new_tag = soup.new_tag('span')  # Create a new tag\n",
    "            new_tag['class'] = 'entity-'+entity[1]\n",
    "            new_tag.append(content[entity[2]:entity[3]])\n",
    "            soup.p.append(new_tag)\n",
    "        soup.p.append(content[entities[-1][3]:])\n",
    "    return soup"
   ]
  },
  {
   "cell_type": "code",
   "execution_count": 49,
   "id": "775fd086",
   "metadata": {
    "scrolled": true
   },
   "outputs": [
    {
     "data": {
      "text/plain": [
       "'<p>okay -that\\'s fine. Now, on the investi-\\ngation, you know, the <span class=\"entity-NORP\">Democratic</span> break-in\\nthing, we\\'re back to the-in the, the problem\\narea because the <span class=\"entity-ORG\">FBI</span> is not under control,\\nbecause <span class=\"entity-ORG\">Gray</span> doesn\\'t exactly know how to\\ncontrol them, and they have, their\\ninvestigation is now leading into some\\nproductive areas, because they\\'ve been able\\nto trace the money, not through the money\\nitself, but through the bank, you know,\\nsources - the banker himself.  And, and it\\ngoes in some directions we don\\'t want it to\\ngo.  Ah, also there have been some things,\\nlike an informant came in off the street to\\nthe <span class=\"entity-ORG\">FBI</span> in <span class=\"entity-GPE\">Miami</span>, who was a photographer or\\nhas a friend who is a photographer who\\ndeveloped some films through this guy,\\n<span class=\"entity-ORG\">Barker</span>, and the films had pictures of\\n<span class=\"entity-ORG\">Democratic National Committee</span> letter head\\ndocuments and things. So I guess, so it\\'s\\nthings like that that are gonna, that are\\nfiltering in. <span class=\"entity-PERSON\">Mitchell</span> came up with\\n<span class=\"entity-DATE\">yesterday</span>, and <span class=\"entity-PERSON\">John Dean</span> analyzed very\\ncarefully <span class=\"entity-TIME\">last night</span> and concludes, concurs\\nnow with <span class=\"entity-ORG\">Mitchell</span>\\'s recommendation that the\\nonly way to solve this, and we\\'re set up\\nbeautifully to do it, ah, in that and\\nthat...the only network that paid any\\nattention to it <span class=\"entity-TIME\">last night</span> was <span class=\"entity-ORG\">NBC</span>...they\\ndid a massive story on the <span class=\"entity-NORP\">Cuban</span>...</p>'"
      ]
     },
     "execution_count": 49,
     "metadata": {},
     "output_type": "execute_result"
    }
   ],
   "source": [
    "soup = tagging(speak_content[0])\n",
    "str(soup)"
   ]
  },
  {
   "cell_type": "code",
   "execution_count": 53,
   "id": "097dcdd4",
   "metadata": {},
   "outputs": [],
   "source": [
    "conversion_json = {'lines':[]}\n",
    "for speaker, paragraph in zip(all_speakers, speak_content):\n",
    "    soup = tagging(paragraph)\n",
    "    conversion_json['lines'].append({'speaker': speaker, 'words': str(soup)})"
   ]
  },
  {
   "cell_type": "code",
   "execution_count": 55,
   "id": "05a0299e",
   "metadata": {},
   "outputs": [],
   "source": [
    "json_object = json.dumps(conversion_json, indent=4)\n",
    " \n",
    "# Writing to sample.json\n",
    "with open(\"../data_json/exhibit_01.json\", \"w\") as outfile:\n",
    "    outfile.write(json_object)"
   ]
  },
  {
   "cell_type": "code",
   "execution_count": 43,
   "id": "25d8532d",
   "metadata": {},
   "outputs": [
    {
     "name": "stdout",
     "output_type": "stream",
     "text": [
      "That's right.\n"
     ]
    }
   ],
   "source": [
    "get_entities(speak_content[1])"
   ]
  },
  {
   "cell_type": "code",
   "execution_count": 104,
   "id": "b9458b84",
   "metadata": {},
   "outputs": [
    {
     "name": "stdout",
     "output_type": "stream",
     "text": [
      "JUNE 23, 1972 FROM 10:04 TO 11:39 AM\n",
      "JUNE 23, 1972 0 13 DATE\n",
      "10:04 TO 11:39 AM 19 36 TIME\n"
     ]
    }
   ],
   "source": [
    "get_entities(speak_content[11])"
   ]
  },
  {
   "cell_type": "code",
   "execution_count": 99,
   "id": "c1c763d0",
   "metadata": {},
   "outputs": [
    {
     "data": {
      "text/plain": [
       "('CARDINAL',\n",
       " 'DATE',\n",
       " 'EVENT',\n",
       " 'FAC',\n",
       " 'GPE',\n",
       " 'LANGUAGE',\n",
       " 'LAW',\n",
       " 'LOC',\n",
       " 'MONEY',\n",
       " 'NORP',\n",
       " 'ORDINAL',\n",
       " 'ORG',\n",
       " 'PERCENT',\n",
       " 'PERSON',\n",
       " 'PRODUCT',\n",
       " 'QUANTITY',\n",
       " 'TIME',\n",
       " 'WORK_OF_ART')"
      ]
     },
     "execution_count": 99,
     "metadata": {},
     "output_type": "execute_result"
    }
   ],
   "source": [
    "nlp.get_pipe(\"ner\").labels"
   ]
  },
  {
   "cell_type": "code",
   "execution_count": 109,
   "id": "fdc9d9d3",
   "metadata": {},
   "outputs": [
    {
     "name": "stdout",
     "output_type": "stream",
     "text": [
      "TRANSCRIPT OF A RECORDING OF A\n",
      "MEETING BETWEEN THE PRESIDENT\n",
      "AND H.R. HALDEMAN IN THE OVAL\n",
      "OFFICE ON JUNE 23, 1972 FROM\n",
      "10:04 TO 11:39 AM\n",
      "June 23, 1972 FROM 10:04 TO 11:39 AM\n",
      "3\n",
      "**********\n",
      "okay -that's fine. Now, on the investi-\n",
      "gation, you know, the Democratic break-in\n",
      "thing, we're back to the-in the, the problem\n",
      "area because the FBI is not under control,\n",
      "because Gray doesn't exactly know how to\n",
      "control them, and they have, their\n",
      "investigation is now leading into some\n",
      "productive areas, because they've been able\n",
      "to trace the money, not through the money\n",
      "itself, but through the bank, you know,\n",
      "sources - the banker himself.  And, and it\n",
      "goes in some directions we don't want it to\n",
      "go.  Ah, also there have been some things,\n",
      "like an informant came in off the street to\n",
      "the FBI in Miami, who was a photographer or\n",
      "has a friend who is a photographer who\n",
      "developed some films through this guy,\n",
      "Barker, and the films had pictures of\n",
      "Democratic National Committee letter head\n",
      "documents and things. So I guess, so it's\n",
      "things like that that are gonna, that are\n",
      "filtering in. Mitchell came up with\n",
      "yesterday, and John Dean analyzed very\n",
      "carefully last night and concludes, concurs\n",
      "now with Mitchell's recommendation that the\n",
      "only way to solve this, and we're set up\n",
      "beautifully to do it, ah, in that and\n",
      "that...the only network that paid any\n",
      "attention to it last night was NBC...they\n",
      "did a massive story on the Cuban...\n",
      "That's right.\n",
      "thing.\n",
      "Right.\n",
      "That the way to handle this now is for us to\n",
      "have Walters call Pat Gray and just say,\n",
      "\"Stay the hell out of this...this is ah,\n",
      "business here we don't want you to go any\n",
      "further on it.\"  That's not an unusual\n",
      "development,...\n",
      "Um huh.\n",
      "JUNE 23, 1972 FROM 10:04 TO 11:39 AM\n",
      "4\n",
      "...and, uh, that would take care of it.\n",
      "What about Pat Gray, ah, you mean he doesn't\n",
      "want to?\n",
      "Pat does want to.  He doesn't know how to,\n",
      "and he doesn't have, he doesn't have any\n",
      "basis for doing it.  Given this, he will\n",
      "then have the basis.  He'll call Mark Felt\n",
      "in, and the two of them ...and Mark Felt\n",
      "wants to cooperate because...\n",
      "Yeah.\n",
      "he's ambitious...\n",
      "Yeah.\n",
      "Ah, he'll call him in and say, \"We've got\n",
      "the signal from across the river to, to put\n",
      "the hold on this.\"  And that will fit rather\n",
      "well because the FBI agents who are working\n",
      "the case, at this point, feel that's what it\n",
      "is.  This is CIA.\n",
      "But they've traced the money to 'em.\n",
      "Well they have, they've traced to a name,\n",
      "but they haven't gotten to the guy yet.\n",
      "Would it be somebody here?\n",
      "Ken Dahlberg.\n",
      "Who the hell is Ken Dahlberg?\n",
      "He's ah, he gave $25,000 in Minnesota and\n",
      "ah, the check went directly in to this, to\n",
      "this guy Barker.\n",
      "Maybe he's a ...bum.\n",
      "JUNE 23, 1972 FROM 10:04 TO 11:39 AM\n",
      "5\n",
      "He didn't get this from the committee\n",
      "though, from Stans.\n",
      "Yeah.  It is.  It is.  It's directly\n",
      "traceable and there's some more through some\n",
      "Texas people in--that went to the Mexican\n",
      "bank which they can also trace to the\n",
      "Mexican bank...they'll get their names\n",
      "today. And pause)\n",
      "Well, I mean, ah, there's no way... I'm just\n",
      "thinking if they don't cooperate, what do\n",
      "they say?  They they, they were approached\n",
      "by the Cubans.  That's what Dahlberg has to\n",
      "say, the Texans too.  Is that the idea?\n",
      "Well, if they will.  But then we're relying\n",
      "on more and more people all the time.\n",
      "That's the problem.  And ah, they'll stop if\n",
      "we could, if we take this other step.\n",
      "All right.  Fine.\n",
      "And, and they seem to feel the thing to do\n",
      "is get them to stop?\n",
      "Right, fine.\n",
      "They say the only way to do that is from\n",
      "White House instructions.  And it's got to\n",
      "be to Helms and, ah, what's his name...?\n",
      "Walters.\n",
      "Walters.\n",
      "And the proposal would be that Ehrlichman\n",
      "(coughs) and I call them in\n",
      "All right, fine.\n",
      "and say, ah...\n",
      "JUNE 23, 1972 FROM 10:04 TO 11:39 AM\n",
      "6\n",
      "How do you call him in, I mean you just,\n",
      "well, we protected Helms from one hell of a\n",
      "lot of things.\n",
      "That's what Ehrlichman says.\n",
      "Of course, this is a, this is a Hunt, you\n",
      "will-that will uncover a lot of things.  You\n",
      "open that scab there's a hell of a lot of\n",
      "things and that we just feel that it would\n",
      "be very detrimental to have this thing go\n",
      "any further.  This involves these Cubans,\n",
      "Hunt, and a lot of hanky-panky that we have\n",
      "nothing to do with ourselves.  Well what the\n",
      "hell, did Mitchell know about this thing to\n",
      "any much of a degree?\n",
      "I think so.  I don 't think he knew the\n",
      "details, but I think he knew.\n",
      "He didn't know how it was going to be\n",
      "handled though, with Dahlberg and the Texans\n",
      "and so forth?  Well who was the asshole that\n",
      "did?  (Unintelligible) Is it Liddy?  Is that\n",
      "the fellow?  He must be a little nuts.\n",
      "He is.\n",
      "I mean he just isn't well screwed on is he?\n",
      "Isn't that the problem?\n",
      "No, but he was under pressure, apparently,\n",
      "to get more information, and as he got more\n",
      "pressure, he pushed the people harder to\n",
      "move harder on...\n",
      "Pressure from Mitchell?\n",
      "Apparently.\n",
      "Oh, Mitchell, Mitchell was at the point that\n",
      "you made on this, that exactly what I need\n",
      "from you is on the--\n",
      "Gemstone, yeah.\n",
      "JUNE 23, 1972 FROM 10:04 TO 11:39 AM\n",
      "7\n",
      "All right, fine, I understand it all.  We\n",
      "won't second-guess Mitchell and the rest.\n",
      "Thank God it wasn't Colson.\n",
      "The FBI interviewed Colson yesterday.  They\n",
      "determined that would be a good thing to do.\n",
      "Um hum.\n",
      "Ah, to have him take a...\n",
      "Um hum.\n",
      "An interrogation, which he did, and that,\n",
      "the FBI guys working the case had concluded\n",
      "that there were one or two possibilities,\n",
      "one, that this was a White House, they don't\n",
      "think that there is anything at the Election\n",
      "Committee, they think it was either a White\n",
      "House operation and they had some obscure\n",
      "reasons for it, non political,...\n",
      "Uh huh.\n",
      "or it was a...\n",
      "Cuban thing-\n",
      "Cubans and the CIA.  And after their\n",
      "interrogation of, of...\n",
      "Colson.\n",
      "Colson, yesterday, they concluded it was not\n",
      "the White House, but are now convinced it is\n",
      "a CIA thing, so the CIA turn off would...\n",
      "Well, not sure of their analysis, I'm not\n",
      "going to get that involved. I'm\n",
      "(unintelligible).\n",
      "No, sir. We don't want you to.\n",
      "JUNE 23, 1972 FROM 10:04 to 11:39 AM\n",
      "8 (repl. 10/28/74)\n",
      "You call them in.\n",
      "Good.  Good deal! Play it tough.  That's the\n",
      "way they play it and that's the way we are\n",
      "going to play it.\n",
      "O.K.  We'll do it.\n",
      "Yeah, when I saw that news summary item, I\n",
      "of course knew it was a bunch of crap, but I\n",
      "thought ah, well it's good to have them off\n",
      "on this wild hair thing because when they\n",
      "start bugging us, which they have, we'll\n",
      "know our little boys will not know how to\n",
      "handle it.  I hope they will though.  You\n",
      "never know.  Maybe, you think about it.\n",
      "Good!\n",
      "Mosbacher has resigned.\n",
      "Oh yeah?\n",
      "As we expected he would.\n",
      "Yeah.\n",
      "He's going back to private life\n",
      "(unintelligible) Do you want to sign this or\n",
      "should I send it to Rose?\n",
      "Ah, yeah (scratching noise)\n",
      "Do you want to release it?\n",
      "O.K.  Great.  Good job, Bob.\n",
      "Kissinger?\n",
      "Huh?  That's a joke.\n",
      "Is it?  Ah, O.K.\n",
      "JUNE 23, 1972 FROM 10:04 TO 11:39 AM\n",
      "16\n",
      "I don't know, maybe it isn't worth going out\n",
      "and talking (unintelligible) Maybe it is.\n",
      "Well, it's a close call.  Ah, Ehrlichman\n",
      "though you'd, you probably, he, he...\n",
      "What?\n",
      "Well, he said you probably didn't need it.\n",
      "He didn't think you should, now at all.  He\n",
      "said he felt fine doing it.\n",
      "He did?  The question, the point is, does he\n",
      "think everybody is going to understand about\n",
      "the bussing?\n",
      "That's right.\n",
      "And, ah, well Lonzo says no.\n",
      "**********\n",
      "Well, this, the fact is somewhere in\n",
      "between, I think, because I think that is\n",
      "missing some...\n",
      "Well, if the fact is somewhere in between,\n",
      "we better do it.\n",
      "Yeah, I think Mitchell says, \"Hell yes.\n",
      "Anything we can hit on at anytime we get the\n",
      "chance...and we've got a reason for doing\n",
      "it... do it.\"\n",
      "When you get in these people when you...get\n",
      "these people in, say: \"Look, the problem is\n",
      "that this will open the whole, the whole Bay\n",
      "of Pigs thing, and the President just feels\n",
      "that\" ah, without going into the details...\n",
      "don't, don't lie to them to the extent to\n",
      "say there is no involvement, but just say\n",
      "this is sort of a comedy of errors, bizarre,\n",
      "without getting into it, \"the President\n",
      "believes that it is going to open the whole\n",
      "Bay of Pigs thing up again.  And, ah because\n",
      "these people are plugging for, for keeps and\n",
      "that they should call the FBI in and say\n",
      "that we wish for the country, don't go any\n",
      "further into this case\", period!\n",
      "JUNE 23, 1972 FROM 10 04 TO 11:39 AM\n",
      "17\n",
      "OK\n",
      "That's the way to put it, do it straight\n",
      "(Unintelligible)\n",
      "Get more done for our cause by the\n",
      "opposition than by us at this point.\n",
      "You think so?\n",
      "I think so, yeah.\n",
      "**********\n",
      "Still (unintelligible) moves\n",
      "(unintelligible)very close election\n",
      "(unintelligible) he keeps saying if he moves\n",
      "a little-\n",
      "They're all... that's the whole thing.  The\n",
      "Washington Post said it in it's lead\n",
      "editorial today.  Another \"McGovern's got to\n",
      "change his position,\" and that that would be\n",
      "a good thing, that's constructive.  Ah, the\n",
      "white wash for change.\n",
      "Post prints the news so they'll say that is\n",
      "perfectly all right.\n",
      "Cause then they are saying...on the other\n",
      "hand... that maybe we're not so smart.  We\n",
      "have to admire the progress he's made on the\n",
      "basis of the position he's taken and maybe\n",
      "he's right and we're wrong.\n"
     ]
    },
    {
     "name": "stdout",
     "output_type": "stream",
     "text": [
      "To be very (unintelligible) (laughs).\n",
      "Sitting in Miami played into our hand a\n",
      "little bit.\n",
      "No.\n",
      "They, ah eliminated their law prohibiting\n",
      "male homosexuals from wearing female\n",
      "clothing, now the boys can all put on their\n",
      "dresses... so the gay lib is going to turn\n",
      "out 6,000 fags to (laughs).  I hope they\n",
      "(unintelligible) them.\n",
      "How did they(unintelligible)\n",
      "\n"
     ]
    }
   ],
   "source": [
    "all_entities = []\n",
    "for sent in speak_content:\n",
    "    entities = get_entities(sent)\n",
    "    all_entities += entities"
   ]
  },
  {
   "cell_type": "code",
   "execution_count": 110,
   "id": "2bb8fcc8",
   "metadata": {},
   "outputs": [
    {
     "data": {
      "text/plain": [
       "111"
      ]
     },
     "execution_count": 110,
     "metadata": {},
     "output_type": "execute_result"
    }
   ],
   "source": [
    "len(all_entities)"
   ]
  },
  {
   "cell_type": "code",
   "execution_count": 112,
   "id": "dffeaa32",
   "metadata": {},
   "outputs": [],
   "source": [
    "entity_df = pd.DataFrame(all_entities, columns=['entity', 'type'])"
   ]
  },
  {
   "cell_type": "code",
   "execution_count": 114,
   "id": "a183ed0c",
   "metadata": {},
   "outputs": [
    {
     "data": {
      "text/html": [
       "<div>\n",
       "<style scoped>\n",
       "    .dataframe tbody tr th:only-of-type {\n",
       "        vertical-align: middle;\n",
       "    }\n",
       "\n",
       "    .dataframe tbody tr th {\n",
       "        vertical-align: top;\n",
       "    }\n",
       "\n",
       "    .dataframe thead th {\n",
       "        text-align: right;\n",
       "    }\n",
       "</style>\n",
       "<table border=\"1\" class=\"dataframe\">\n",
       "  <thead>\n",
       "    <tr style=\"text-align: right;\">\n",
       "      <th></th>\n",
       "      <th>entity</th>\n",
       "    </tr>\n",
       "    <tr>\n",
       "      <th>type</th>\n",
       "      <th></th>\n",
       "    </tr>\n",
       "  </thead>\n",
       "  <tbody>\n",
       "    <tr>\n",
       "      <th>CARDINAL</th>\n",
       "      <td>12</td>\n",
       "    </tr>\n",
       "    <tr>\n",
       "      <th>DATE</th>\n",
       "      <td>15</td>\n",
       "    </tr>\n",
       "    <tr>\n",
       "      <th>GPE</th>\n",
       "      <td>4</td>\n",
       "    </tr>\n",
       "    <tr>\n",
       "      <th>LOC</th>\n",
       "      <td>1</td>\n",
       "    </tr>\n",
       "    <tr>\n",
       "      <th>MONEY</th>\n",
       "      <td>1</td>\n",
       "    </tr>\n",
       "    <tr>\n",
       "      <th>NORP</th>\n",
       "      <td>13</td>\n",
       "    </tr>\n",
       "    <tr>\n",
       "      <th>ORDINAL</th>\n",
       "      <td>1</td>\n",
       "    </tr>\n",
       "    <tr>\n",
       "      <th>ORG</th>\n",
       "      <td>25</td>\n",
       "    </tr>\n",
       "    <tr>\n",
       "      <th>PERSON</th>\n",
       "      <td>29</td>\n",
       "    </tr>\n",
       "    <tr>\n",
       "      <th>TIME</th>\n",
       "      <td>10</td>\n",
       "    </tr>\n",
       "  </tbody>\n",
       "</table>\n",
       "</div>"
      ],
      "text/plain": [
       "          entity\n",
       "type            \n",
       "CARDINAL      12\n",
       "DATE          15\n",
       "GPE            4\n",
       "LOC            1\n",
       "MONEY          1\n",
       "NORP          13\n",
       "ORDINAL        1\n",
       "ORG           25\n",
       "PERSON        29\n",
       "TIME          10"
      ]
     },
     "execution_count": 114,
     "metadata": {},
     "output_type": "execute_result"
    }
   ],
   "source": [
    "entity_df.groupby('type').count()"
   ]
  },
  {
   "cell_type": "code",
   "execution_count": 117,
   "id": "f7f6647a",
   "metadata": {},
   "outputs": [
    {
     "data": {
      "text/plain": [
       "Mitchell             8\n",
       "JUNE 23, 1972        8\n",
       "10:04 TO 11:39 AM    6\n",
       "FBI                  6\n",
       "CIA                  4\n",
       "Cubans               3\n",
       "Ehrlichman           3\n",
       "yesterday            3\n",
       "Mexican              2\n",
       "Ken Dahlberg         2\n",
       "Name: entity, dtype: int64"
      ]
     },
     "execution_count": 117,
     "metadata": {},
     "output_type": "execute_result"
    }
   ],
   "source": [
    "entity_df['entity'].value_counts()[:10]"
   ]
  },
  {
   "cell_type": "code",
   "execution_count": 4,
   "id": "5a2466ce",
   "metadata": {},
   "outputs": [
    {
     "data": {
      "text/plain": [
       "<spacy.lang.en.English at 0x7ff729f56f50>"
      ]
     },
     "execution_count": 4,
     "metadata": {},
     "output_type": "execute_result"
    }
   ],
   "source": [
    "nlp = spacy.load('en')\n",
    "neuralcoref.add_to_pipe(nlp)\n",
    "# doc1 = nlp('My sister has a dog. She loves him.')\n",
    "# print(doc1._.coref_clusters)\n",
    "\n",
    "# doc2 = nlp('Angela lives in Boston. She is quite happy in that city.')\n",
    "# for ent in doc2.ents:\n",
    "#     print(ent._.coref_cluster)"
   ]
  },
  {
   "cell_type": "code",
   "execution_count": 5,
   "id": "1d4e6c83",
   "metadata": {},
   "outputs": [
    {
     "name": "stdout",
     "output_type": "stream",
     "text": [
      "[My sister: [My sister, She], a dog: [a dog, him]]\n"
     ]
    }
   ],
   "source": [
    "doc1 = nlp('My sister has a dog. She loves him.')\n",
    "print(doc1._.coref_clusters)"
   ]
  },
  {
   "cell_type": "code",
   "execution_count": 6,
   "id": "a1050d47",
   "metadata": {},
   "outputs": [
    {
     "name": "stdout",
     "output_type": "stream",
     "text": [
      "Angela: [Angela, She]\n",
      "Boston: [Boston, that city]\n"
     ]
    }
   ],
   "source": [
    "doc2 = nlp('Angela lives in Boston. She is quite happy in that city.')\n",
    "for ent in doc2.ents:\n",
    "    print(ent._.coref_cluster)"
   ]
  },
  {
   "cell_type": "code",
   "execution_count": 14,
   "id": "68740275",
   "metadata": {},
   "outputs": [
    {
     "name": "stdout",
     "output_type": "stream",
     "text": [
      "[Ken Dahlberg: [Ken Dahlberg, He, he]]\n"
     ]
    }
   ],
   "source": [
    "doc = nlp('Who the hell is Ken Dahlberg? He\\'s ah, he gave $25,000 in Minnesota and ah, the check went directly in to this, to this guy Barker.')\n",
    "print(doc._.coref_clusters)"
   ]
  },
  {
   "cell_type": "code",
   "execution_count": 17,
   "id": "b2f89dbe",
   "metadata": {},
   "outputs": [
    {
     "name": "stdout",
     "output_type": "stream",
     "text": [
      "[them: [them, they, their]]\n"
     ]
    }
   ],
   "source": [
    "doc = nlp('we\\'re back to the-in the, the problem area because the FBI is not under control, because Gray doesn\\'t exactly know how to control them, and they have, their investigation is now leading into some productive areas')\n",
    "print(doc._.coref_clusters)"
   ]
  },
  {
   "cell_type": "code",
   "execution_count": 13,
   "id": "eba20f96",
   "metadata": {},
   "outputs": [
    {
     "name": "stdout",
     "output_type": "stream",
     "text": [
      "okay -that's fine. Now, on the investi-\n",
      "gation, you know, the Democratic break-in\n",
      "thing, we're back to the-in the, the problem\n",
      "area because the FBI is not under control,\n",
      "because Gray doesn't exactly know how to\n",
      "control them, and they have, their\n",
      "investigation is now leading into some\n",
      "productive areas, because they've been able\n",
      "to trace the money, not through the money\n",
      "itself, but through the bank, you know,\n",
      "sources - the banker himself.  And, and it\n",
      "goes in some directions we don't want it to\n",
      "go.  Ah, also there have been some things,\n",
      "like an informant came in off the street to\n",
      "the FBI in Miami, who was a photographer or\n",
      "has a friend who is a photographer who\n",
      "developed some films through this guy,\n",
      "Barker, and the films had pictures of\n",
      "Democratic National Committee letter head\n",
      "documents and things. So I guess, so it's\n",
      "things like that that are gonna, that are\n",
      "filtering in. Mitchell came up with\n",
      "yesterday, and John Dean analyzed very\n",
      "carefully last night and concludes, concurs\n",
      "now with Mitchell's recommendation that the\n",
      "only way to solve this, and we're set up\n",
      "beautifully to do it, ah, in that and\n",
      "that...the only network that paid any\n",
      "attention to it last night was NBC...they\n",
      "did a massive story on the Cuban...\n",
      "[them: [them, they, their, they], it: [it, it], some films: [some films, the films], Mitchell: [Mitchell, Mitchell], this: [this, it, it], the only network that paid any\n",
      "attention to it last night: [the only network that paid any\n",
      "attention to it last night, they]]\n"
     ]
    }
   ],
   "source": [
    "doc = nlp(speak_content[4])\n",
    "print(speak_content[4])\n",
    "print(doc._.coref_clusters)\n",
    "# for ent in doc.ents:\n",
    "#     print(ent.text, ent.label_)\n",
    "#     print(ent._.coref_cluster)"
   ]
  },
  {
   "cell_type": "code",
   "execution_count": null,
   "id": "443bfb15",
   "metadata": {},
   "outputs": [],
   "source": []
  }
 ],
 "metadata": {
  "kernelspec": {
   "display_name": "Python 3 (ipykernel)",
   "language": "python",
   "name": "python3"
  },
  "language_info": {
   "codemirror_mode": {
    "name": "ipython",
    "version": 3
   },
   "file_extension": ".py",
   "mimetype": "text/x-python",
   "name": "python",
   "nbconvert_exporter": "python",
   "pygments_lexer": "ipython3",
   "version": "3.8.8"
  }
 },
 "nbformat": 4,
 "nbformat_minor": 5
}
